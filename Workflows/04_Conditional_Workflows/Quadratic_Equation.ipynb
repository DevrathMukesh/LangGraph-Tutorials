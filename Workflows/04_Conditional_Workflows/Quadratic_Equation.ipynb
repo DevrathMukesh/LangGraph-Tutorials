{
 "cells": [
  {
   "cell_type": "code",
   "execution_count": 16,
   "id": "d5863e13",
   "metadata": {},
   "outputs": [],
   "source": [
    "from langgraph.graph import StateGraph, START, END\n",
    "from typing import Any, Dict, List, TypedDict, Literal"
   ]
  },
  {
   "cell_type": "code",
   "execution_count": 17,
   "id": "9cebd568",
   "metadata": {},
   "outputs": [],
   "source": [
    "class QuadraticEquationWorkflowState(TypedDict):\n",
    "    \"\"\"Input data for solving a quadratic equation.\"\"\"\n",
    "    a: int\n",
    "    b: int\n",
    "    c: int\n",
    "\n",
    "    \n",
    "    equation: str\n",
    "    roots: List[float]\n",
    "    discriminant: float"
   ]
  },
  {
   "cell_type": "code",
   "execution_count": 18,
   "id": "b59b5af8",
   "metadata": {},
   "outputs": [],
   "source": [
    "def ShowEquation(state : QuadraticEquationWorkflowState):\n",
    "    \"\"\"Display the quadratic equation.\"\"\"\n",
    "    a = state['a']\n",
    "    b = state['b']\n",
    "    c = state['c']\n",
    "    equation = f\"{a}x^2 + {b}x + {c} = 0\"\n",
    "    return {\n",
    "        'equation': equation\n",
    "    }\n",
    "\n",
    "\n",
    "def CalculateDiscriminant(state : QuadraticEquationWorkflowState):\n",
    "    \"\"\"Calculate the discriminant of the quadratic equation.\"\"\"\n",
    "    a = state['a']\n",
    "    b = state['b']\n",
    "    c = state['c']\n",
    "    discriminant = b**2 - 4*a*c\n",
    "    return {\n",
    "        'discriminant': discriminant\n",
    "    }\n",
    "\n",
    "def RealRoots(state : QuadraticEquationWorkflowState):\n",
    "    \"\"\"Calculate the real roots of the quadratic equation.\"\"\"\n",
    "    a = state['a']\n",
    "    b = state['b']\n",
    "    c = state['c']\n",
    "    discriminant = state['discriminant']\n",
    "    \n",
    "    \n",
    "    sqrt_discriminant = discriminant**0.5\n",
    "    root1 = (-b + sqrt_discriminant) / (2 * a)\n",
    "    root2 = (-b - sqrt_discriminant) / (2 * a)\n",
    "    \n",
    "    return {'roots': [root1, root2]}\n",
    "\n",
    "def ImaginaryRoots(state : QuadraticEquationWorkflowState):\n",
    "    \"\"\"Calculate the imaginary roots of the quadratic equation.\"\"\"\n",
    "    a = state['a']\n",
    "    b = state['b']\n",
    "    c = state['c']\n",
    "    discriminant = state['discriminant']\n",
    "    \n",
    "    sqrt_discriminant = (-discriminant)**0.5\n",
    "    real_part = -b / (2 * a)\n",
    "    imaginary_part = sqrt_discriminant / (2 * a)\n",
    "    \n",
    "    root1 = complex(real_part, imaginary_part)\n",
    "    root2 = complex(real_part, -imaginary_part)\n",
    "    \n",
    "    return {'roots': [root1, root2]}\n",
    "\n",
    "def RepeatedRoots(state : QuadraticEquationWorkflowState):\n",
    "    \"\"\"Calculate the repeated root of the quadratic equation.\"\"\"\n",
    "    a = state['a']\n",
    "    b = state['b']\n",
    "    c = state['c']\n",
    "    \n",
    "    root = -b / (2 * a)\n",
    "    \n",
    "    return {'roots': [root, root]}\n",
    "\n",
    "def Router (state : QuadraticEquationWorkflowState) -> Literal[\"Real_Roots\", \"Repeated_Roots\", \"Imaginary_Roots\"]:\n",
    "    \"\"\"Route to the appropriate function based on the discriminant.\"\"\"\n",
    "    discriminant = state['discriminant']\n",
    "    \n",
    "    if discriminant > 0:\n",
    "        return \"Real_Roots\"\n",
    "    elif discriminant == 0:\n",
    "        return \"Repeated_Roots\"\n",
    "    else:\n",
    "        return \"Imaginary_Roots\""
   ]
  },
  {
   "cell_type": "code",
   "execution_count": 19,
   "id": "ddbee05f",
   "metadata": {},
   "outputs": [],
   "source": [
    "graph = StateGraph(QuadraticEquationWorkflowState)\n",
    "\n",
    "# Define the Nodes\n",
    "graph.add_node(\"Show_Equation\", ShowEquation)\n",
    "graph.add_node(\"Calculate_Discriminant\", CalculateDiscriminant)\n",
    "graph.add_node(\"Repeated_Roots\", RepeatedRoots)\n",
    "graph.add_node(\"Real_Roots\", RealRoots)\n",
    "graph.add_node(\"Imaginary_Roots\", ImaginaryRoots)\n",
    "\n",
    "# Define the Edges\n",
    "graph.add_edge(START, \"Show_Equation\")\n",
    "graph.add_edge(\"Show_Equation\", \"Calculate_Discriminant\")\n",
    "graph.add_conditional_edges(\"Calculate_Discriminant\", Router)\n",
    "graph.add_edge(\"Real_Roots\", END)\n",
    "graph.add_edge(\"Repeated_Roots\", END)\n",
    "graph.add_edge(\"Imaginary_Roots\", END)\n",
    "\n",
    "# Initialize the Graph\n",
    "workflow = graph.compile()"
   ]
  },
  {
   "cell_type": "code",
   "execution_count": 20,
   "id": "b76a3691",
   "metadata": {},
   "outputs": [
    {
     "data": {
      "image/png": "[encoded data removed]",
      "text/plain": [
       "<IPython.core.display.Image object>"
      ]
     },
     "execution_count": 20,
     "metadata": {},
     "output_type": "execute_result"
    }
   ],
   "source": [
    "from IPython.display import display, Markdown, Image\n",
    "Image(workflow.get_graph().draw_mermaid_png())\n",
    "# display(Markdown(\"### BMI Calculator Workflow\"))"
   ]
  },
  {
   "cell_type": "code",
   "execution_count": 24,
   "id": "90ff3a36",
   "metadata": {},
   "outputs": [
    {
     "data": {
      "text/markdown": [
       "### Quadratic Equation: 4x^2 + 2x + 4 = 0"
      ],
      "text/plain": [
       "<IPython.core.display.Markdown object>"
      ]
     },
     "metadata": {},
     "output_type": "display_data"
    },
    {
     "data": {
      "text/markdown": [
       "### Roots: [(-0.25+0.9682458365518543j), (-0.25-0.9682458365518543j)]"
      ],
      "text/plain": [
       "<IPython.core.display.Markdown object>"
      ]
     },
     "metadata": {},
     "output_type": "display_data"
    },
    {
     "data": {
      "text/markdown": [
       "### Discriminant: -60"
      ],
      "text/plain": [
       "<IPython.core.display.Markdown object>"
      ]
     },
     "metadata": {},
     "output_type": "display_data"
    }
   ],
   "source": [
    "# Execute the Workflow\n",
    "input_data = {\n",
    "    \"a\": 4,\n",
    "    \"b\": 2,\n",
    "    \"c\": 4\n",
    "    }\n",
    "\n",
    "result = workflow.invoke(input_data)\n",
    "display(Markdown(f\"### Quadratic Equation: {result['equation']}\"))\n",
    "display(Markdown(f\"### Roots: {result['roots']}\"))\n",
    "display(Markdown(f\"### Discriminant: {result['discriminant']}\"))\n"
   ]
  }
 ],
 "metadata": {
  "kernelspec": {
   "display_name": "LangGraph-Tutorials",
   "language": "python",
   "name": "python3"
  },
  "language_info": {
   "codemirror_mode": {
    "name": "ipython",
    "version": 3
   },
   "file_extension": ".py",
   "mimetype": "text/x-python",
   "name": "python",
   "nbconvert_exporter": "python",
   "pygments_lexer": "ipython3",
   "version": "3.13.5"
  }
 },
 "nbformat": 4,
 "nbformat_minor": 5
}
