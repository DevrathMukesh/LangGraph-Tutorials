{
 "cells": [
  {
   "cell_type": "markdown",
   "id": "0fbca6f7",
   "metadata": {},
   "source": [
    "# Gemini"
   ]
  },
  {
   "cell_type": "markdown",
   "id": "b60f70b5",
   "metadata": {},
   "source": [
    "## Meathod 1"
   ]
  },
  {
   "cell_type": "code",
   "execution_count": null,
   "id": "03d5925b",
   "metadata": {},
   "outputs": [
    {
     "name": "stdout",
     "output_type": "stream",
     "text": [
      "AI is the simulation of human intelligence by machines.\n"
     ]
    }
   ],
   "source": [
    "from langchain_google_genai import ChatGoogleGenerativeAI\n",
    "from langchain_core.pydantic_v1 import BaseModel, Field\n",
    "from typing import Literal\n",
    "import os\n",
    "from dotenv import load_dotenv\n",
    "\n",
    "\n",
    "# Load .env file with GEMINI_API_KEY\n",
    "load_dotenv()\n",
    "\n",
    "# Initialize Gemini LLM (with API Key)\n",
    "llm = ChatGoogleGenerativeAI(\n",
    "    model=\"gemini-2.5-flash\",\n",
    "    google_api_key=os.getenv(\"GEMINI_API_KEY\")\n",
    ")\n",
    "print(llm.invoke(\"Define AI in one line.\").content)"
   ]
  },
  {
   "cell_type": "code",
   "execution_count": 6,
   "id": "c490fdda",
   "metadata": {},
   "outputs": [],
   "source": [
    "# Define Pydantic output schema\n",
    "class TweetEvaluation(BaseModel):\n",
    "    evaluation: Literal[\"approved\", \"needs_improvement\"] = Field(..., description=\"Final evaluation result.\")\n",
    "    feedback: str = Field(..., description=\"Feedback for the tweet.\")\n"
   ]
  },
  {
   "cell_type": "code",
   "execution_count": 8,
   "id": "bad5ed99",
   "metadata": {},
   "outputs": [
    {
     "name": "stdout",
     "output_type": "stream",
     "text": [
      "evaluation='approved' feedback='The tweet is clear, positive, and appropriate. It effectively highlights the benefits of AI in a concise manner.'\n"
     ]
    }
   ],
   "source": [
    "# Wrap the LLM with structured output expectation\n",
    "structured_llm = llm.with_structured_output(TweetEvaluation)\n",
    "\n",
    "# Example tweet to evaluate\n",
    "tweet = \"AI is making everything faster and smarter.\"\n",
    "\n",
    "# Prompt for evaluation\n",
    "prompt = f\"Evaluate the following tweet for clarity, positivity, and appropriateness. Give final judgment and feedback.\\n\\nTweet: {tweet}\"\n",
    "\n",
    "# Run and print result\n",
    "result = structured_llm.invoke(prompt)\n",
    "print(result)"
   ]
  },
  {
   "cell_type": "code",
   "execution_count": 9,
   "id": "98c52612",
   "metadata": {},
   "outputs": [
    {
     "name": "stdout",
     "output_type": "stream",
     "text": [
      "approved\n",
      "The tweet is clear, positive, and appropriate. It effectively highlights the benefits of AI in a concise manner.\n"
     ]
    }
   ],
   "source": [
    "print(result.evaluation)\n",
    "print(result.feedback)"
   ]
  },
  {
   "cell_type": "markdown",
   "id": "1cd958ff",
   "metadata": {},
   "source": [
    "## Meathod 2"
   ]
  },
  {
   "cell_type": "code",
   "execution_count": null,
   "id": "1ba0d44c",
   "metadata": {},
   "outputs": [],
   "source": [
    "from langchain.chat_models import init_chat_model\n",
    "llm = init_chat_model(\"google_genai:gemini-2.5-flash\")\n",
    "print(llm.invoke(\"Define AI in one line.\").content)"
   ]
  },
  {
   "cell_type": "markdown",
   "id": "66217fa0",
   "metadata": {},
   "source": [
    "# OpenAI"
   ]
  },
  {
   "cell_type": "code",
   "execution_count": null,
   "id": "953ca230",
   "metadata": {},
   "outputs": [],
   "source": [
    "from langchain_openai import ChatOpenAI\n",
    "model = ChatOpenAI(model='gpt-4o-mini')\n",
    "print(llm.invoke(\"Define AI in one line.\").content)\n"
   ]
  }
 ],
 "metadata": {
  "kernelspec": {
   "display_name": "LangGraph-Tutorials",
   "language": "python",
   "name": "python3"
  },
  "language_info": {
   "codemirror_mode": {
    "name": "ipython",
    "version": 3
   },
   "file_extension": ".py",
   "mimetype": "text/x-python",
   "name": "python",
   "nbconvert_exporter": "python",
   "pygments_lexer": "ipython3",
   "version": "3.13.5"
  }
 },
 "nbformat": 4,
 "nbformat_minor": 5
}
