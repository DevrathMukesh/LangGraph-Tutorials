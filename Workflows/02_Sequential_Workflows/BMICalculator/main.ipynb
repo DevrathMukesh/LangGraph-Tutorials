{
 "cells": [
  {
   "cell_type": "markdown",
   "id": "ba2b7b17",
   "metadata": {},
   "source": [
    "## Created by Mukesh Kumar\n",
    "### This code is part of the LangGraph tutorials, specifically for a BMI calculator workflow."
   ]
  },
  {
   "cell_type": "code",
   "execution_count": 27,
   "id": "65a61967",
   "metadata": {},
   "outputs": [],
   "source": [
    "from langgraph.graph import StateGraph, START, END\n",
    "from typing import Any, Dict, List, TypedDict"
   ]
  },
  {
   "cell_type": "code",
   "execution_count": 28,
   "id": "a13f5a8f",
   "metadata": {},
   "outputs": [],
   "source": [
    "# Define the state graph for the BMI calculator workflow\n",
    "class BMICalculatorState(TypedDict):\n",
    "    weight: float\n",
    "    height: float\n",
    "    bmi: float\n",
    "    category: str\n",
    "    "
   ]
  },
  {
   "cell_type": "code",
   "execution_count": 29,
   "id": "36a427ac",
   "metadata": {},
   "outputs": [],
   "source": [
    "def CalculateBMI(state: BMICalculatorState) -> BMICalculatorState:\n",
    "    \"\"\"Calculate BMI based on weight and height.\"\"\"\n",
    "    if state['height'] <= 0:\n",
    "        raise ValueError(\"Height must be greater than zero.\")\n",
    "    if state['weight'] <= 0:\n",
    "        raise ValueError(\"Weight must be greater than zero.\")\n",
    "    \n",
    "    state['bmi'] = state['weight'] / (state['height'] ** 2)\n",
    "    state['bmi'] = round(state['bmi'], 2)  # Round to 2 decimal places\n",
    "    return state"
   ]
  },
  {
   "cell_type": "code",
   "execution_count": 30,
   "id": "1fcda3b9",
   "metadata": {},
   "outputs": [],
   "source": [
    "def LabelBMI(state: BMICalculatorState) -> BMICalculatorState:\n",
    "    \"\"\"Label the BMI category based on the calculated BMI.\"\"\"\n",
    "    if state['bmi'] < 18.5:\n",
    "        state['category'] = 'Underweight'\n",
    "    elif 18.5 <= state['bmi'] < 24.9:\n",
    "        state['category'] = 'Normal weight'\n",
    "    elif 25 <= state['bmi'] < 29.9:\n",
    "        state['category'] = 'Overweight'\n",
    "    else:\n",
    "        state['category'] = 'Obesity'\n",
    "    return state"
   ]
  },
  {
   "cell_type": "code",
   "execution_count": 31,
   "id": "759c23cf",
   "metadata": {},
   "outputs": [],
   "source": [
    "# Define the workflow for calculating BMI\n",
    "BMICalculatorGraph = StateGraph(BMICalculatorState)\n",
    "\n",
    "# Add nodes\n",
    "BMICalculatorGraph.add_node(\"Calculate_BMI\",CalculateBMI, state=BMICalculatorState)\n",
    "BMICalculatorGraph.add_node(\"Label_BMI\", LabelBMI, state=BMICalculatorState)\n",
    "\n",
    "# Add edges\n",
    "BMICalculatorGraph.add_edge(START, \"Calculate_BMI\")\n",
    "BMICalculatorGraph.add_edge(\"Calculate_BMI\", \"Label_BMI\")\n",
    "BMICalculatorGraph.add_edge(\"Label_BMI\", END)\n",
    "\n",
    "# Compile the graph\n",
    "workflow = BMICalculatorGraph.compile()\n"
   ]
  },
  {
   "cell_type": "code",
   "execution_count": 32,
   "id": "3d63e7ff",
   "metadata": {},
   "outputs": [
    {
     "name": "stdout",
     "output_type": "stream",
     "text": [
      "Calculated BMI: 22.86\n",
      "BMI Category: Normal weight\n"
     ]
    }
   ],
   "source": [
    "# Execute the workflow\n",
    "intial_state: BMICalculatorState = {\n",
    "    'weight': 70.0,  # Example weight in kg\n",
    "    'height': 1.75,  # Example height in meters\n",
    "    'bmi': 0.0       # Initial BMI value\n",
    "}\n",
    "\n",
    "result_state = workflow.invoke(intial_state)\n",
    "print(f\"Calculated BMI: {result_state['bmi']}\")\n",
    "print(f\"BMI Category: {result_state['category']}\")\n",
    "# --- IGNORE ---"
   ]
  },
  {
   "cell_type": "code",
   "execution_count": 33,
   "id": "2b0d527b",
   "metadata": {},
   "outputs": [
    {
     "data": {
      "image/png": "[encoded data removed]",
      "text/plain": [
       "<IPython.core.display.Image object>"
      ]
     },
     "execution_count": 33,
     "metadata": {},
     "output_type": "execute_result"
    }
   ],
   "source": [
    "from IPython.display import display, Markdown, Image\n",
    "Image(workflow.get_graph().draw_mermaid_png())\n",
    "# display(Markdown(\"### BMI Calculator Workflow\"))"
   ]
  }
 ],
 "metadata": {
  "kernelspec": {
   "display_name": "LangGraph-Tutorials",
   "language": "python",
   "name": "python3"
  },
  "language_info": {
   "codemirror_mode": {
    "name": "ipython",
    "version": 3
   },
   "file_extension": ".py",
   "mimetype": "text/x-python",
   "name": "python",
   "nbconvert_exporter": "python",
   "pygments_lexer": "ipython3",
   "version": "3.13.5"
  }
 },
 "nbformat": 4,
 "nbformat_minor": 5
}
