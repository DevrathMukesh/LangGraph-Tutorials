{
 "cells": [
  {
   "cell_type": "markdown",
   "id": "a12cbaec",
   "metadata": {},
   "source": [
    "## Created by Mukesh Kumar\n",
    "### This code is part of the LangGraph tutorials, specifically for a Batsman Performance workflow."
   ]
  },
  {
   "cell_type": "code",
   "execution_count": 35,
   "id": "cbb2a2b4",
   "metadata": {},
   "outputs": [],
   "source": [
    "from langgraph.graph import StateGraph, START, END\n",
    "from typing import Any, Dict, List, TypedDict\n"
   ]
  },
  {
   "cell_type": "code",
   "execution_count": null,
   "id": "3b719613",
   "metadata": {},
   "outputs": [],
   "source": [
    "class BatsmanPerformanceflowState(TypedDict):\n",
    "    runs: int\n",
    "    sixs: int\n",
    "    fours: int\n",
    "    balls: int\n",
    "\n",
    "    strike_rate: float\n",
    "    balls_per_boundary_percentage: float\n",
    "    balls_boundary_percent: float\n",
    "\n",
    "    report: str"
   ]
  },
  {
   "cell_type": "code",
   "execution_count": null,
   "id": "3033cdca",
   "metadata": {},
   "outputs": [],
   "source": [
    "def CalculateStrikeRate(state: BatsmanPerformanceflowState) -> BatsmanPerformanceflowState:\n",
    "    if state['balls'] == 0:\n",
    "        raise ValueError(\"Balls cannot be zero for strike rate calculation.\")\n",
    "    \n",
    "    strike_rate = (state['runs'] / state['balls']) * 100\n",
    "    return {\n",
    "        'strike_rate': strike_rate\n",
    "    }\n",
    "\n",
    "def CalculateBallsPerBoundary(state: BatsmanPerformanceflowState) -> BatsmanPerformanceflowState:\n",
    "    if state['balls'] == 0:\n",
    "        raise ValueError(\"Balls cannot be zero for boundary calculation.\")\n",
    "    if state['fours'] + state['sixs'] == 0:\n",
    "        raise ValueError(\"Fours and sixes cannot both be zero for boundary calculation.\")\n",
    "    \n",
    "    total_boundaries = state['fours'] + state['sixs']\n",
    "    balls_per_boundary_percentage = (state['balls'] / total_boundaries)\n",
    "    return {\n",
    "        'balls_per_boundary_percentage' : balls_per_boundary_percentage\n",
    "    }\n",
    "\n",
    "def CalculateBoundaryPercent(state: BatsmanPerformanceflowState) -> BatsmanPerformanceflowState:\n",
    "    if state['balls'] == 0:\n",
    "        raise ValueError(\"Balls cannot be zero for boundary percentage calculation.\")\n",
    "    \n",
    "    total_boundaries_runs = (state['fours'] * 4) + (state['sixs'] * 6)\n",
    "    if total_boundaries_runs == 0:\n",
    "        raise ValueError(\"Fours and sixes cannot both be zero for boundary percentage calculation.\")\n",
    "    \n",
    "    balls_boundary_percent = (total_boundaries_runs / state['runs']) * 100\n",
    "    return {\n",
    "        'balls_boundary_percent': balls_boundary_percent\n",
    "    }\n",
    "\n",
    "def GeneratePerformanceReport(state: BatsmanPerformanceflowState) -> str:\n",
    "    report = (\n",
    "        f\"Batsman Performance Report:\\n\"\n",
    "        # f\"Runs Scored: {state['runs']}\\n\"\n",
    "        # f\"Fours: {state['fours']}\\n\"\n",
    "        # f\"Sixes: {state['sixs']}\\n\"\n",
    "        # f\"Balls Faced: {state['balls']}\\n\"\n",
    "        f\"Strike Rate: {state['strike_rate']:.2f}\\n\"\n",
    "        f\"Balls per Boundary Percentage: {state['balls_per_boundary_percentage']:.2f}\\n\"\n",
    "        f\"Boundary Percentage: {state['balls_boundary_percent']:.2f}%\\n\"\n",
    "    )\n",
    "    state['report'] = report\n",
    "    return state"
   ]
  },
  {
   "cell_type": "code",
   "execution_count": null,
   "id": "5113e01a",
   "metadata": {},
   "outputs": [],
   "source": [
    "# Define the state graph for the BMI calculator workflow\n",
    "BatsmanPerformanceflowGraph = StateGraph(BatsmanPerformanceflowState)\n",
    "\n",
    "# Add nodes to the graph \n",
    "BatsmanPerformanceflowGraph.add_node('Calculate_Strike_Rate',CalculateStrikeRate)\n",
    "BatsmanPerformanceflowGraph.add_node('Calculate_Balls_Per_Boundary', CalculateBallsPerBoundary)\n",
    "BatsmanPerformanceflowGraph.add_node('Calculate_Balls_Boundary_Percent', CalculateBoundaryPercent)\n",
    "BatsmanPerformanceflowGraph.add_node('Report', GeneratePerformanceReport)  # START node\n",
    "\n",
    "# Add edges to the graph\n",
    "BatsmanPerformanceflowGraph.add_edge(START, 'Calculate_Strike_Rate')\n",
    "BatsmanPerformanceflowGraph.add_edge(START, 'Calculate_Balls_Per_Boundary')\n",
    "BatsmanPerformanceflowGraph.add_edge(START, 'Calculate_Balls_Boundary_Percent')\n",
    "\n",
    "BatsmanPerformanceflowGraph.add_edge('Calculate_Strike_Rate', 'Report')\n",
    "BatsmanPerformanceflowGraph.add_edge('Calculate_Balls_Per_Boundary', 'Report')\n",
    "BatsmanPerformanceflowGraph.add_edge('Calculate_Balls_Boundary_Percent', 'Report')\n",
    "\n",
    "# Add the END node\n",
    "BatsmanPerformanceflowGraph.add_edge('Report', END)\n",
    "\n",
    "# Compile the graph\n",
    "workflow = BatsmanPerformanceflowGraph.compile()"
   ]
  },
  {
   "cell_type": "code",
   "execution_count": 39,
   "id": "6bdc7087",
   "metadata": {},
   "outputs": [
    {
     "data": {
      "image/png": "[encoded data removed]",
      "text/plain": [
       "<IPython.core.display.Image object>"
      ]
     },
     "execution_count": 39,
     "metadata": {},
     "output_type": "execute_result"
    }
   ],
   "source": [
    "from IPython.display import display, Markdown, Image\n",
    "Image(workflow.get_graph().draw_mermaid_png())\n",
    "# display(Markdown(\"### BMI Calculator Workflow\"))"
   ]
  },
  {
   "cell_type": "code",
   "execution_count": null,
   "id": "efa9c7f4",
   "metadata": {},
   "outputs": [],
   "source": [
    "# Execute the workflow\n",
    "intial_state: BatsmanPerformanceflowState = {\n",
    "    \"runs\": 100,\n",
    "    \"sixs\": 4,\n",
    "    \"fours\": 6,\n",
    "    \"balls\": 50,\n",
    "    \n",
    "    \"strike_rate\": 0.0,\n",
    "    \"balls_per_boundary_percent\": 0.0,\n",
    "    \"balls_boundary_percent\": 0.0,\n",
    "\n",
    "    \"report\": \"\"\n",
    "}\n",
    "result_state = workflow.invoke(intial_state)\n"
   ]
  },
  {
   "cell_type": "code",
   "execution_count": 41,
   "id": "d21d6d2a",
   "metadata": {},
   "outputs": [
    {
     "name": "stdout",
     "output_type": "stream",
     "text": [
      "Final Batsman Performance Report:\n",
      "Batsman Performance Report:\n",
      "Strike Rate: 200.00\n",
      "Balls per Boundary Percentage: 5.00\n",
      "Boundary Percentage: 48.00%\n",
      "\n"
     ]
    }
   ],
   "source": [
    "# Print the final report\n",
    "print(\"Final Batsman Performance Report:\")\n",
    "print(result_state.get('report', 'No report generated.'))"
   ]
  }
 ],
 "metadata": {
  "kernelspec": {
   "display_name": "LangGraph-Tutorials",
   "language": "python",
   "name": "python3"
  },
  "language_info": {
   "codemirror_mode": {
    "name": "ipython",
    "version": 3
   },
   "file_extension": ".py",
   "mimetype": "text/x-python",
   "name": "python",
   "nbconvert_exporter": "python",
   "pygments_lexer": "ipython3",
   "version": "3.13.5"
  }
 },
 "nbformat": 4,
 "nbformat_minor": 5
}
