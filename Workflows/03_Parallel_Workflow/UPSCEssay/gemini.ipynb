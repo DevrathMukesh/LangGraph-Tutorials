{
 "cells": [
  {
   "cell_type": "markdown",
   "id": "a12cbaec",
   "metadata": {},
   "source": [
    "## Created by Mukesh Kumar\n",
    "### This code is part of the LangGraph tutorials, specifically for a Blog Generation workflow."
   ]
  },
  {
   "cell_type": "code",
   "execution_count": 144,
   "id": "cbb2a2b4",
   "metadata": {},
   "outputs": [],
   "source": [
    "from langgraph.graph import StateGraph, START, END\n",
    "from typing import Any, Dict, List, TypedDict, Annotated\n",
    "from pydantic import BaseModel, Field\n",
    "from langchain_openai import ChatOpenAI\n",
    "import operator # Needed for merging "
   ]
  },
  {
   "cell_type": "code",
   "execution_count": 145,
   "id": "12155831",
   "metadata": {},
   "outputs": [],
   "source": [
    "import os\n",
    "from dotenv import load_dotenv\n",
    "load_dotenv()\n",
    "\n",
    "# Import api keys from environment variables\n",
    "GEMINI_API_KEY = os.getenv(\"GEMINI_API_KEY\")\n",
    "OPENAI_API_KEY = os.getenv(\"OPENAI_API_KEY\")\n",
    "\n",
    "# print(OPENAI_API_KEY)"
   ]
  },
  {
   "cell_type": "code",
   "execution_count": 146,
   "id": "3b719613",
   "metadata": {},
   "outputs": [],
   "source": [
    "class EvaluationSchema(BaseModel):\n",
    "    feedback: str = Field(..., description=\"Detailed Feedback of the essay\")\n",
    "    score: float = Field(..., description=\"Score of the essay on a scale of 1 to 10\", ge=1, le=10)"
   ]
  },
  {
   "cell_type": "code",
   "execution_count": 147,
   "id": "e2571822",
   "metadata": {},
   "outputs": [],
   "source": [
    "sample_essay = \"\"\"The Importance of Sustainable Cities for the Future\n",
    "\n",
    "As the global population continues to grow, cities are becoming increasingly crowded, polluted, and resource-intensive. By 2050, it is estimated that nearly 70% of the world's population will live in urban areas. This shift presents a critical challenge — and opportunity — to reshape our urban environments into sustainable, livable, and resilient cities.\n",
    "\n",
    "Sustainable cities are designed to meet the needs of their current residents without compromising the ability of future generations to meet their own. This means prioritizing efficient transportation systems, green energy, waste reduction, and access to clean air and water. Public spaces, affordable housing, and equitable access to resources are also central to a truly sustainable urban life.\n",
    "\n",
    "Transportation is one of the biggest contributors to urban pollution. Cities that invest in electric public transport, cycling infrastructure, and walkable neighborhoods can significantly reduce greenhouse gas emissions. Similarly, incorporating renewable energy into city planning — such as solar-powered buildings and smart grids — can decrease reliance on fossil fuels and improve energy resilience.\n",
    "\n",
    "Urban planning must also consider social sustainability. Inclusive policies that address poverty, housing inequality, and education gaps create stronger, more cohesive communities. A sustainable city is not only environmentally responsible but also socially just.\n",
    "\n",
    "Furthermore, green spaces like parks and community gardens improve mental health, reduce urban heat, and support biodiversity — all while strengthening human connections to nature.\n",
    "\n",
    "In conclusion, sustainable cities are no longer a luxury but a necessity. As climate change accelerates and urban populations rise, cities must evolve to ensure a balanced relationship between people, the environment, and the economy. Investing in sustainable urban development today will shape a more stable, equitable, and thriving world tomorrow.\n",
    "\"\"\""
   ]
  },
  {
   "cell_type": "markdown",
   "id": "ed9fe2c0",
   "metadata": {},
   "source": [
    "Gemini"
   ]
  },
  {
   "cell_type": "code",
   "execution_count": null,
   "id": "e85cce1c",
   "metadata": {},
   "outputs": [],
   "source": [
    "import google.generativeai as genai\n",
    "\n",
    "# Configure the SDK\n",
    "genai.configure(api_key=GEMINI_API_KEY)\n",
    "\n",
    "# Create a model instance\n",
    "model = genai.GenerativeModel(\"models/gemini-2.5-flash\")\n",
    "\n",
    "# Generate content\n",
    "prompt = f'Evaluate the language quality of the following essay and provide a feedback and assign a score out of 10 \\n {sample_essay}'\n",
    "# response = model.generate_content(prompt)\n",
    "# print(response.text)\n"
   ]
  },
  {
   "cell_type": "code",
   "execution_count": 152,
   "id": "373d5259",
   "metadata": {},
   "outputs": [],
   "source": [
    "class UPSCEssayWorkflowState(TypedDict):\n",
    "    essay :str\n",
    "    language_quality_feedback: str\n",
    "    deepth_of_thought_feedback: str\n",
    "    clarity_of_thought_feedback: str\n",
    "    overall_feedback: str\n",
    "    individual_score: Annotated[list[int], Field(description=\"Scores for each individual feedback category\"), operator.add] # Merging scores using operator.add eg. [8] + [9] = [8,9]\n",
    "    average_score: Annotated[float, Field(description=\"Average score of the essay on a scale of 1 to 10\")]"
   ]
  },
  {
   "cell_type": "code",
   "execution_count": 153,
   "id": "e3806564",
   "metadata": {},
   "outputs": [],
   "source": [
    "import json\n",
    "import re\n",
    "from typing import Any\n",
    "\n",
    "def extract_json(text: str) -> dict[str, Any]:\n",
    "    \"\"\"\n",
    "    Extract and parse JSON object from text, ignoring markdown or natural language wrappers.\n",
    "    \"\"\"\n",
    "    # Remove markdown formatting if present\n",
    "    text = text.strip()\n",
    "    if text.startswith(\"```json\"):\n",
    "        text = text[7:]\n",
    "    if text.endswith(\"```\"):\n",
    "        text = text[:-3]\n",
    "\n",
    "    # Find first JSON object using regex\n",
    "    match = re.search(r'\\{.*\\}', text, re.DOTALL)\n",
    "    if match:\n",
    "        json_str = match.group(0)\n",
    "        return json.loads(json_str)\n",
    "\n",
    "    raise ValueError(\"No valid JSON object found in the response.\")\n"
   ]
  },
  {
   "cell_type": "code",
   "execution_count": 154,
   "id": "3033cdca",
   "metadata": {},
   "outputs": [],
   "source": [
    "import json\n",
    "\n",
    "def EvaluateLanguageQuality(state: UPSCEssayWorkflowState) -> UPSCEssayWorkflowState:\n",
    "    \"\"\"\n",
    "    Evaluate the language quality of the essay and provide feedback and score.\n",
    "    \"\"\"\n",
    "    prompt = f\"\"\"\n",
    "Evaluate the language quality of the following essay.\n",
    "\n",
    "Respond in JSON format with two fields:\n",
    "- \"score\": number from 0 to 10\n",
    "- \"feedback\": short feedback text\n",
    "\n",
    "Essay:\n",
    "{state[\"essay\"]}\n",
    "\"\"\"\n",
    "    response = model.generate_content(prompt)\n",
    "    \n",
    "\n",
    "    try:\n",
    "        parsed_data = extract_json(response.text)\n",
    "        evaluation = EvaluationSchema.model_validate(parsed_data)\n",
    "        return {\n",
    "            \"language_quality_feedback\": evaluation.feedback,\n",
    "            \"individual_score\": [evaluation.score]\n",
    "        }\n",
    "    except Exception as e:\n",
    "        print(\"❌ Error parsing or validating response:\")\n",
    "        print(response.text)\n",
    "        raise e\n",
    "\n",
    "\n",
    "def EvaluateDeepthOfThought(state: UPSCEssayWorkflowState) -> UPSCEssayWorkflowState:\n",
    "    \"\"\"\n",
    "    Evaluate the depth of thought in the essay and provide feedback and score.\n",
    "    \"\"\"\n",
    "    prompt = f\"\"\"\n",
    "Evaluate the depth of thought in the following essay.\n",
    "\n",
    "Respond in JSON format with two fields:\n",
    "- \"score\": number from 0 to 10\n",
    "- \"feedback\": short feedback text\n",
    "\n",
    "Essay:\n",
    "{state[\"essay\"]}\n",
    "\"\"\"\n",
    "    response = model.generate_content(prompt)\n",
    "\n",
    "    try:\n",
    "        parsed_data = extract_json(response.text)\n",
    "        evaluation = EvaluationSchema.model_validate(parsed_data)\n",
    "        return {\n",
    "            \"deepth_of_thought_feedback\": evaluation.feedback,\n",
    "            \"individual_score\": [evaluation.score]\n",
    "        }\n",
    "    except Exception as e:\n",
    "        print(\"❌ Error parsing or validating response:\")\n",
    "        print(response.text)\n",
    "        raise e\n",
    "\n",
    "\n",
    "def EvaluateClarityOfThought(state: UPSCEssayWorkflowState) -> UPSCEssayWorkflowState:\n",
    "    \"\"\"\n",
    "    Evaluate the clarity of thought in the essay and provide feedback and score.\n",
    "    \"\"\"\n",
    "    prompt = f\"\"\"\n",
    "Evaluate the clarity of thought in the following essay.\n",
    "\n",
    "Respond in JSON format with two fields:\n",
    "- \"score\": number from 0 to 10\n",
    "- \"feedback\": short feedback text\n",
    "\n",
    "Essay:\n",
    "{state[\"essay\"]}\n",
    "\"\"\"\n",
    "    response = model.generate_content(prompt)\n",
    "\n",
    "    try:\n",
    "        parsed_data = extract_json(response.text)\n",
    "        evaluation = EvaluationSchema.model_validate(parsed_data)\n",
    "        return {\n",
    "            \"clarity_of_thought_feedback\": evaluation.feedback,\n",
    "            \"individual_score\": [evaluation.score]\n",
    "        }\n",
    "    except Exception as e:\n",
    "        print(\"❌ Error parsing or validating response:\")\n",
    "        print(response.text)\n",
    "        raise e\n",
    "\n",
    "\n",
    "def FinalEvaluation(state: UPSCEssayWorkflowState) -> UPSCEssayWorkflowState:\n",
    "    \"\"\"\n",
    "    Combine all individual scores and feedback to provide a final evaluation of the essay.\n",
    "    \"\"\"\n",
    "    # Average scores\n",
    "    state['average_score'] = sum(state['individual_score']) / len(state['individual_score']) if state['individual_score'] else 0.0\n",
    "\n",
    "    # Final feedback prompt\n",
    "    prompt = (\n",
    "        f\"Based on the following evaluations, provide a comprehensive feedback for the essay:\\n\"\n",
    "        f\"Language Quality Feedback: {state['language_quality_feedback']}\\n\"\n",
    "        f\"Depth of Thought Feedback: {state['deepth_of_thought_feedback']}\\n\"\n",
    "        f\"Clarity of Thought Feedback: {state['clarity_of_thought_feedback']}\"\n",
    "    )\n",
    "\n",
    "    response = model.generate_content(prompt)\n",
    "    state['overall_feedback'] = response.text.strip()\n",
    "\n",
    "    return {\n",
    "        \"overall_feedback\": state['overall_feedback'],\n",
    "        \"average_score\": state['average_score']\n",
    "    }\n"
   ]
  },
  {
   "cell_type": "code",
   "execution_count": 155,
   "id": "5113e01a",
   "metadata": {},
   "outputs": [],
   "source": [
    "# Define the state graph for the BMI calculator workflow\n",
    "UPSCEssayflowGraph = StateGraph(UPSCEssayWorkflowState)\n",
    "\n",
    "# Add nodes to the graph\n",
    "UPSCEssayflowGraph.add_node('Evaluate_Language_Quality',EvaluateLanguageQuality)\n",
    "UPSCEssayflowGraph.add_node('Evaluate_Deepth_of_Thought', EvaluateDeepthOfThought)\n",
    "UPSCEssayflowGraph.add_node('Evaluate_Clarity_of_Thought', EvaluateClarityOfThought)\n",
    "UPSCEssayflowGraph.add_node('Final_Evaluation', FinalEvaluation)\n",
    "\n",
    "\n",
    "# Add edges to the graph\n",
    "UPSCEssayflowGraph.add_edge(START,'Evaluate_Language_Quality')\n",
    "UPSCEssayflowGraph.add_edge(START, 'Evaluate_Deepth_of_Thought')\n",
    "UPSCEssayflowGraph.add_edge(START, 'Evaluate_Clarity_of_Thought')\n",
    "UPSCEssayflowGraph.add_edge('Evaluate_Language_Quality', 'Final_Evaluation')\n",
    "UPSCEssayflowGraph.add_edge('Evaluate_Deepth_of_Thought', 'Final_Evaluation')\n",
    "UPSCEssayflowGraph.add_edge('Evaluate_Clarity_of_Thought',  'Final_Evaluation')\n",
    "UPSCEssayflowGraph.add_edge('Final_Evaluation', END)\n",
    "\n",
    "# Compile the graph\n",
    "workflow = UPSCEssayflowGraph.compile()"
   ]
  },
  {
   "cell_type": "code",
   "execution_count": 156,
   "id": "e95dafd3",
   "metadata": {},
   "outputs": [
    {
     "data": {
      "image/png": "[encoded data removed]",
      "text/plain": [
       "<IPython.core.display.Image object>"
      ]
     },
     "execution_count": 156,
     "metadata": {},
     "output_type": "execute_result"
    }
   ],
   "source": [
    "from IPython.display import display, Markdown, Image\n",
    "Image(workflow.get_graph().draw_mermaid_png())\n",
    "# display(Markdown(\"### BMI Calculator Workflow\"))"
   ]
  },
  {
   "cell_type": "code",
   "execution_count": 157,
   "id": "efa9c7f4",
   "metadata": {},
   "outputs": [],
   "source": [
    "# Execute the workflow\n",
    "intial_state: UPSCEssayWorkflowState = {\n",
    "    \"essay\": sample_essay,\n",
    "    \"language_quality_feedback\": \"\",\n",
    "    \"deepth_of_thought_feedback\": \"\",\n",
    "    \"clarity_of_thought_feedback\": \"\",\n",
    "    \"overall_feedback\": \"\",\n",
    "    \"individual_score\": [],\n",
    "    \"average_score\": 0.0\n",
    "}\n",
    "result_state = workflow.invoke(intial_state)\n"
   ]
  },
  {
   "cell_type": "code",
   "execution_count": 158,
   "id": "f7f91b94",
   "metadata": {},
   "outputs": [
    {
     "data": {
      "text/markdown": [
       "\n",
       "### Final Report\n",
       "- **Average Score**: 7.50\n",
       "- **Individual Scores**: [9.0, 4.0, 9.5]\n",
       "- **Overall Feedback**: This essay demonstrates a strong command of language and excellent clarity of thought, making it a highly readable and well-structured piece.\n",
       "\n",
       "**Strengths:**\n",
       "\n",
       "*   **Exceptional Language Quality:** The language quality is a standout feature. Your writing is consistently clear, concise, and grammatically impeccable. The vocabulary used is precise and sophisticated, elevating the prose and contributing to a very professional tone. The essay flows remarkably smoothly, making it a pleasure to read.\n",
       "*   **Excellent Clarity of Thought:** The essay exhibits excellent clarity of thought. It follows a logical structure with a clear progression of ideas, ensuring that the reader can easily follow your arguments from beginning to end. The precise language used further enhances this clarity, making your central argument and points readily understandable.\n",
       "\n",
       "**Areas for Development:**\n",
       "\n",
       "*   **Limited Depth of Thought:** While the essay effectively outlines the common elements and benefits of sustainable cities and demonstrates a clear understanding of basic concepts, it primarily operates at a descriptive, surface level. There is a noticeable lack of deeper analysis or original insight. To strengthen future essays, consider:\n",
       "    *   **Exploring Complexities and Challenges:** Delve into the inherent difficulties, obstacles, and complexities involved in implementing sustainable urban initiatives.\n",
       "    *   **Analyzing Trade-offs and Nuances:** Discuss the potential conflicts, compromises, or unintended consequences that might arise when pursuing sustainability goals (e.g., economic costs, social equity issues, political resistance).\n",
       "    *   **Providing Deeper Analysis:** Move beyond simply describing \"what\" sustainable cities are and explore \"how\" they are achieved in practice, \"why\" certain approaches succeed or fail, and \"what are the long-term implications\" of different strategies.\n",
       "    *   **Introducing Original Insight:** Offer a more critical perspective, a unique interpretation, or a well-reasoned argument that goes beyond commonly accepted ideas. This could involve challenging assumptions, presenting counter-arguments, or synthesizing information in a novel way.\n",
       "    *   **Using Specific Examples/Case Studies:** Integrating detailed examples or case studies could help illustrate complexities and demonstrate a more nuanced understanding.\n",
       "\n",
       "**Overall Feedback:**\n",
       "\n",
       "You have built a very strong foundation with your excellent command of language and clarity of expression. These are crucial skills that make your essay highly accessible and professional. The primary opportunity for growth lies in pushing beyond a descriptive overview to engage more deeply with the topic. By incorporating critical analysis, exploring complexities, and offering more nuanced insights, your essays will undoubtedly achieve a higher level of academic sophistication and analytical rigor.\n"
      ],
      "text/plain": [
       "<IPython.core.display.Markdown object>"
      ]
     },
     "metadata": {},
     "output_type": "display_data"
    }
   ],
   "source": [
    "# Print the final report\n",
    "# print(\"Final Report:\")\n",
    "# print(f\"Average Score: {result_state['average_score']:.2f}\")\n",
    "# print(\"Individual Scores:\", result_state['individual_score'])\n",
    "\n",
    "# print(f\"Overall Feedback: {result_state['overall_feedback']}\")\n",
    "# Display the final report in a more readable format\n",
    "display(Markdown(f\"\"\"\n",
    "### Final Report\n",
    "- **Average Score**: {result_state['average_score']:.2f}\n",
    "- **Individual Scores**: {result_state['individual_score']}\n",
    "- **Overall Feedback**: {result_state['overall_feedback']}\n",
    "\"\"\"))\n"
   ]
  },
  {
   "cell_type": "code",
   "execution_count": 159,
   "id": "3efefa2c",
   "metadata": {},
   "outputs": [],
   "source": [
    "essay2 = \"\"\"India and AI Time\n",
    "\n",
    "Now world change very fast because new tech call Artificial Intel… something (AI). India also want become big in this AI thing. If work hard, India can go top. But if no careful, India go back.\n",
    "\n",
    "India have many good. We have smart student, many engine-ear, and good IT peoples. Big company like TCS, Infosys, Wipro already use AI. Government also do program “AI for All”. It want AI in farm, doctor place, school and transport.\n",
    "\n",
    "In farm, AI help farmer know when to put seed, when rain come, how stop bug. In health, AI help doctor see sick early. In school, AI help student learn good. Government office use AI to find bad people and work fast.\n",
    "\n",
    "But problem come also. First is many villager no have phone or internet. So AI not help them. Second, many people lose job because AI and machine do work. Poor people get more bad.\n",
    "\n",
    "One more big problem is privacy. AI need big big data. Who take care? India still make data rule. If no strong rule, AI do bad.\n",
    "\n",
    "India must all people together – govern, school, company and normal people. We teach AI and make sure AI not bad. Also talk to other country and learn from them.\n",
    "\n",
    "If India use AI good way, we become strong, help poor and make better life. But if only rich use AI, and poor no get, then big bad thing happen.\n",
    "\n",
    "So, in short, AI time in India have many hope and many danger. We must go right road. AI must help all people, not only some. Then India grow big and world say \"good job India\".\"\"\""
   ]
  },
  {
   "cell_type": "code",
   "execution_count": 160,
   "id": "8a88fdb3",
   "metadata": {},
   "outputs": [],
   "source": [
    "# Execute the workflow\n",
    "intial_state: UPSCEssayWorkflowState = {\n",
    "    \"essay\": sample_essay\n",
    "}\n",
    "result_state = workflow.invoke(intial_state)\n"
   ]
  },
  {
   "cell_type": "code",
   "execution_count": 161,
   "id": "df0ef5c2",
   "metadata": {},
   "outputs": [
    {
     "data": {
      "text/markdown": [
       "\n",
       "### Final Report\n",
       "- **Average Score**: 8.00\n",
       "- **Individual Scores**: [9.0, 6.0, 9.0]\n",
       "- **Overall Feedback**: Here's a comprehensive feedback for your essay, based on the provided evaluations:\n",
       "\n",
       "This essay demonstrates a strong command of academic writing, particularly in its language quality and clarity of thought. While it effectively outlines the key components of sustainable cities, there is an opportunity to deepen the analytical engagement with the topic.\n",
       "\n",
       "### **Overall Strengths:**\n",
       "\n",
       "Your essay's most significant strengths lie in its **outstanding linguistic proficiency and exceptional clarity of thought**. The writing is a pleasure to read, characterized by precise vocabulary, impeccable grammar, and a logical flow that makes complex ideas accessible. You have successfully created a highly coherent and well-structured argument.\n",
       "\n",
       "### **Detailed Feedback:**\n",
       "\n",
       "1.  **Language Quality: Outstanding**\n",
       "    *   **Strengths:** Your command of language is truly exemplary. The \"outstanding clarity, precise vocabulary, and impeccable grammar\" significantly contribute to a \"highly effective and persuasive argument.\" You consistently employ \"sophisticated language appropriately,\" which elevates the essay's academic tone without sacrificing readability. The natural and \"logical flow\" ensures that the reader can follow your reasoning effortlessly. This linguistic excellence not only showcases your writing skills but also enhances the overall credibility and impact of your ideas.\n",
       "\n",
       "2.  **Clarity of Thought: Excellent**\n",
       "    *   **Strengths:** The \"excellent clarity of thought\" is a major highlight. You have a remarkable ability to structure your ideas logically and systematically. The essay \"clearly defines its terms\" from the outset and \"breaks down the components of sustainable cities\" in an organized manner. The \"strong and coherent flow\" ensures that \"each point builds effectively on the last,\" guiding the reader smoothly through your argument. This meticulous organization makes the essay \"very easy to follow\" and ensures that your message is conveyed with maximum impact.\n",
       "\n",
       "3.  **Depth of Thought: Area for Development**\n",
       "    *   **Strengths:** The essay provides a \"clear and well-structured overview of key components of sustainable cities,\" effectively covering both environmental and social aspects. You've clearly grasped the fundamental elements of the topic.\n",
       "    *   **Areas for Improvement:** While the breadth of coverage is good, the primary area for development lies in the depth of your analysis. The feedback indicates that the essay \"largely presents commonly accepted ideas without delving into deeper analysis, specific challenges, or nuanced complexities of implementation.\"\n",
       "        *   **Recommendation for Future Essays:** To elevate your work, consider moving beyond a descriptive overview. Engage more critically with the concepts. For instance:\n",
       "            *   **Explore \"How\" and \"Why\":** Instead of just listing components, delve into *how* they are implemented in real-world scenarios, *why* certain approaches are preferred, or *what* the underlying theoretical frameworks are.\n",
       "            *   **Identify Challenges and Solutions:** Discuss the practical, political, economic, or social challenges associated with implementing sustainable city initiatives. What are the obstacles? How are they being overcome?\n",
       "            *   **Introduce Nuance and Debate:** Are there different schools of thought on what constitutes a truly sustainable city? Are there conflicting priorities? Examining counter-arguments or potential drawbacks of certain solutions can add significant depth.\n",
       "            *   **Incorporate Specific Examples/Case Studies:** Referencing specific cities, projects, or policies could provide concrete evidence and demonstrate a more profound understanding of the practical application of these concepts.\n",
       "            *   **Critical Evaluation:** Rather than just presenting information, evaluate the effectiveness, limitations, or long-term implications of the components you discuss.\n",
       "\n",
       "### **Conclusion:**\n",
       "\n",
       "You possess a remarkable foundation in clear and effective academic communication, as evidenced by your superior language quality and clarity of thought. These are invaluable strengths that make your writing highly accessible and persuasive. To achieve an even higher level of academic excellence, your next step should be to leverage these strengths to push for greater intellectual depth. By moving beyond descriptive overviews to engage in more critical, analytical, and nuanced exploration of your chosen topics, you can transform an excellent presentation of ideas into a truly insightful and thought-provoking analysis.\n"
      ],
      "text/plain": [
       "<IPython.core.display.Markdown object>"
      ]
     },
     "metadata": {},
     "output_type": "display_data"
    }
   ],
   "source": [
    "display(Markdown(f\"\"\"\n",
    "### Final Report\n",
    "- **Average Score**: {result_state['average_score']:.2f}\n",
    "- **Individual Scores**: {result_state['individual_score']}\n",
    "- **Overall Feedback**: {result_state['overall_feedback']}\n",
    "\"\"\"))"
   ]
  }
 ],
 "metadata": {
  "kernelspec": {
   "display_name": "LangGraph-Tutorials",
   "language": "python",
   "name": "python3"
  },
  "language_info": {
   "codemirror_mode": {
    "name": "ipython",
    "version": 3
   },
   "file_extension": ".py",
   "mimetype": "text/x-python",
   "name": "python",
   "nbconvert_exporter": "python",
   "pygments_lexer": "ipython3",
   "version": "3.13.5"
  }
 },
 "nbformat": 4,
 "nbformat_minor": 5
}
