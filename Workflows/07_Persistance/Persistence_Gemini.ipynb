{
 "cells": [
  {
   "cell_type": "code",
   "execution_count": 1,
   "id": "02616839",
   "metadata": {},
   "outputs": [],
   "source": [
    "# Persistance in Langgraph referes to the ability to save and restore the state of the workflow over time.\n",
    "# All intermidiate history as well is stored.\n",
    "# Helps in fault tolerance as if workflow crashes we can resume from the last successfull node."
   ]
  },
  {
   "cell_type": "code",
   "execution_count": 2,
   "id": "5fe01464",
   "metadata": {},
   "outputs": [
    {
     "name": "stderr",
     "output_type": "stream",
     "text": [
      "/opt/anaconda3/envs/LangGraph-Tutorials/lib/python3.13/site-packages/tqdm/auto.py:21: TqdmWarning: IProgress not found. Please update jupyter and ipywidgets. See https://ipywidgets.readthedocs.io/en/stable/user_install.html\n",
      "  from .autonotebook import tqdm as notebook_tqdm\n"
     ]
    }
   ],
   "source": [
    "from langgraph.graph import StateGraph, START, END\n",
    "from typing import TypedDict\n",
    "import google.generativeai as genai\n",
    "from pydantic import BaseModel, Field\n",
    "\n",
    "from dotenv import load_dotenv\n",
    "from langgraph.checkpoint.memory import InMemorySaver"
   ]
  },
  {
   "cell_type": "code",
   "execution_count": 3,
   "id": "afc6de6c",
   "metadata": {},
   "outputs": [],
   "source": [
    "import json\n",
    "import re\n",
    "from typing import Any\n",
    "\n",
    "def extract_json(text: str) -> dict[str, Any]:\n",
    "    \"\"\"\n",
    "    Extract and parse JSON object from text, ignoring markdown or natural language wrappers.\n",
    "    \"\"\"\n",
    "    # Remove markdown formatting if present\n",
    "    text = text.strip()\n",
    "    if text.startswith(\"```json\"):\n",
    "        text = text[7:]\n",
    "    if text.endswith(\"```\"):\n",
    "        text = text[:-3]\n",
    "\n",
    "    # Find first JSON object using regex\n",
    "    match = re.search(r'\\{.*\\}', text, re.DOTALL)\n",
    "    if match:\n",
    "        json_str = match.group(0)\n",
    "        return json.loads(json_str)\n",
    "\n",
    "    raise ValueError(\"No valid JSON object found in the response.\")\n",
    "\n",
    "\n",
    "# Extract schema structure as a string\n",
    "def schema_prompt(schema_model: BaseModel) -> str:\n",
    "    schema = schema_model.model_json_schema()\n",
    "    # Only keep the \"properties\" part for a readable prompt\n",
    "    return json.dumps(schema.get(\"properties\", {}), indent=2)\n"
   ]
  },
  {
   "cell_type": "code",
   "execution_count": 4,
   "id": "d65bfc11",
   "metadata": {},
   "outputs": [],
   "source": [
    "import os\n",
    "load_dotenv()\n",
    "GEMINI_API_KEY = os.getenv(\"GEMINI_API_KEY\")\n",
    "\n",
    "# Configure the SDK\n",
    "genai.configure(api_key=GEMINI_API_KEY)\n",
    "# Create a model instance\n",
    "model = genai.GenerativeModel(\"models/gemini-2.5-flash\")\n",
    "\n",
    "# Generate content\n",
    "# prompt = f'Evaluate the language quality of the following essay and provide a feedback and assign a score out of 10 \\n '\n",
    "# response = model.generate_content(prompt)\n",
    "# print(response.text)\n"
   ]
  },
  {
   "cell_type": "code",
   "execution_count": 5,
   "id": "5922b899",
   "metadata": {},
   "outputs": [],
   "source": [
    "class JokeState(TypedDict):\n",
    "\n",
    "    topic: str\n",
    "    joke: str\n",
    "    explanation: str"
   ]
  },
  {
   "cell_type": "code",
   "execution_count": 6,
   "id": "0561076c",
   "metadata": {},
   "outputs": [],
   "source": [
    "def generate_joke(state: JokeState):\n",
    "\n",
    "    prompt = f'generate a joke on the topic {state[\"topic\"]}'\n",
    "    response = model.generate_content(prompt)\n",
    "\n",
    "    return {'joke': response.text}  # Only return the string"
   ]
  },
  {
   "cell_type": "code",
   "execution_count": 7,
   "id": "d95ff880",
   "metadata": {},
   "outputs": [],
   "source": [
    "def generate_explanation(state: JokeState):\n",
    "\n",
    "    prompt = f'write an explanation for the joke - {state[\"joke\"]}'\n",
    "    response = model.generate_content(prompt)\n",
    "\n",
    "    return {'explanation': response.text}"
   ]
  },
  {
   "cell_type": "code",
   "execution_count": 8,
   "id": "a1093470",
   "metadata": {},
   "outputs": [],
   "source": [
    "graph = StateGraph(JokeState)\n",
    "\n",
    "graph.add_node('generate_joke', generate_joke)\n",
    "graph.add_node('generate_explanation', generate_explanation)\n",
    "\n",
    "graph.add_edge(START, 'generate_joke')\n",
    "graph.add_edge('generate_joke', 'generate_explanation')\n",
    "graph.add_edge('generate_explanation', END)\n",
    "\n",
    "checkpointer = InMemorySaver()\n",
    "\n",
    "workflow = graph.compile(checkpointer=checkpointer)"
   ]
  },
  {
   "cell_type": "code",
   "execution_count": 9,
   "id": "5e8f11c8",
   "metadata": {},
   "outputs": [
    {
     "data": {
      "text/plain": [
       "{'topic': 'pizza',\n",
       " 'joke': 'Why did the pizza have an identity crisis?\\n\\nBecause it was round, came in a square box, and you eat it in triangles!',\n",
       " 'explanation': 'This joke plays on the literal meaning of an \"identity crisis\" applied to an inanimate object, using the different shapes associated with a pizza.\\n\\nHere\\'s the breakdown:\\n\\n1.  **Identity Crisis:** An \"identity crisis\" is when someone feels confused or conflicted about who they are, their purpose, or their fundamental nature.\\n2.  **The Pizza\\'s \"Conflicting Identities\":**\\n    *   **\"It was round\":** This is the pizza\\'s original, baked shape. It\\'s born round.\\n    *   **\"Came in a square box\":** Despite being round, it\\'s contained and transported in a box with a completely different shape – a square.\\n    *   **\"And you eat it in triangles!\":** When it\\'s served and consumed, it\\'s typically cut into triangular slices, yet another distinct shape.\\n\\nThe humor comes from the absurdity of an object experiencing such a conflict. The pizza literally takes on three distinct and clashing geometric identities (round, square, triangle) throughout its \"life cycle,\" creating a humorous parallel to a human identity crisis. It anthropomorphizes the pizza, giving it human-like feelings of confusion over its various shapes.'}"
      ]
     },
     "execution_count": 9,
     "metadata": {},
     "output_type": "execute_result"
    }
   ],
   "source": [
    "config1 = {\"configurable\": {\"thread_id\": \"1\"}}\n",
    "workflow.invoke({'topic':'pizza'}, config=config1)"
   ]
  },
  {
   "cell_type": "code",
   "execution_count": 10,
   "id": "a6857b9c",
   "metadata": {},
   "outputs": [
    {
     "data": {
      "text/plain": [
       "StateSnapshot(values={'topic': 'pizza', 'joke': 'Why did the pizza have an identity crisis?\\n\\nBecause it was round, came in a square box, and you eat it in triangles!', 'explanation': 'This joke plays on the literal meaning of an \"identity crisis\" applied to an inanimate object, using the different shapes associated with a pizza.\\n\\nHere\\'s the breakdown:\\n\\n1.  **Identity Crisis:** An \"identity crisis\" is when someone feels confused or conflicted about who they are, their purpose, or their fundamental nature.\\n2.  **The Pizza\\'s \"Conflicting Identities\":**\\n    *   **\"It was round\":** This is the pizza\\'s original, baked shape. It\\'s born round.\\n    *   **\"Came in a square box\":** Despite being round, it\\'s contained and transported in a box with a completely different shape – a square.\\n    *   **\"And you eat it in triangles!\":** When it\\'s served and consumed, it\\'s typically cut into triangular slices, yet another distinct shape.\\n\\nThe humor comes from the absurdity of an object experiencing such a conflict. The pizza literally takes on three distinct and clashing geometric identities (round, square, triangle) throughout its \"life cycle,\" creating a humorous parallel to a human identity crisis. It anthropomorphizes the pizza, giving it human-like feelings of confusion over its various shapes.'}, next=(), config={'configurable': {'thread_id': '1', 'checkpoint_ns': '', 'checkpoint_id': '1f0706dc-35f3-6a82-8002-cf4e9d490ebb'}}, metadata={'source': 'loop', 'step': 2, 'parents': {}}, created_at='2025-08-03T13:28:38.002915+00:00', parent_config={'configurable': {'thread_id': '1', 'checkpoint_ns': '', 'checkpoint_id': '1f0706db-f730-6bba-8001-009249d319b7'}}, tasks=(), interrupts=())"
      ]
     },
     "execution_count": 10,
     "metadata": {},
     "output_type": "execute_result"
    }
   ],
   "source": [
    "workflow.get_state(config1)"
   ]
  },
  {
   "cell_type": "code",
   "execution_count": 11,
   "id": "eb9eecda",
   "metadata": {},
   "outputs": [
    {
     "data": {
      "text/plain": [
       "[StateSnapshot(values={'topic': 'pizza', 'joke': 'Why did the pizza have an identity crisis?\\n\\nBecause it was round, came in a square box, and you eat it in triangles!', 'explanation': 'This joke plays on the literal meaning of an \"identity crisis\" applied to an inanimate object, using the different shapes associated with a pizza.\\n\\nHere\\'s the breakdown:\\n\\n1.  **Identity Crisis:** An \"identity crisis\" is when someone feels confused or conflicted about who they are, their purpose, or their fundamental nature.\\n2.  **The Pizza\\'s \"Conflicting Identities\":**\\n    *   **\"It was round\":** This is the pizza\\'s original, baked shape. It\\'s born round.\\n    *   **\"Came in a square box\":** Despite being round, it\\'s contained and transported in a box with a completely different shape – a square.\\n    *   **\"And you eat it in triangles!\":** When it\\'s served and consumed, it\\'s typically cut into triangular slices, yet another distinct shape.\\n\\nThe humor comes from the absurdity of an object experiencing such a conflict. The pizza literally takes on three distinct and clashing geometric identities (round, square, triangle) throughout its \"life cycle,\" creating a humorous parallel to a human identity crisis. It anthropomorphizes the pizza, giving it human-like feelings of confusion over its various shapes.'}, next=(), config={'configurable': {'thread_id': '1', 'checkpoint_ns': '', 'checkpoint_id': '1f0706dc-35f3-6a82-8002-cf4e9d490ebb'}}, metadata={'source': 'loop', 'step': 2, 'parents': {}}, created_at='2025-08-03T13:28:38.002915+00:00', parent_config={'configurable': {'thread_id': '1', 'checkpoint_ns': '', 'checkpoint_id': '1f0706db-f730-6bba-8001-009249d319b7'}}, tasks=(), interrupts=()),\n",
       " StateSnapshot(values={'topic': 'pizza', 'joke': 'Why did the pizza have an identity crisis?\\n\\nBecause it was round, came in a square box, and you eat it in triangles!'}, next=('generate_explanation',), config={'configurable': {'thread_id': '1', 'checkpoint_ns': '', 'checkpoint_id': '1f0706db-f730-6bba-8001-009249d319b7'}}, metadata={'source': 'loop', 'step': 1, 'parents': {}}, created_at='2025-08-03T13:28:31.421920+00:00', parent_config={'configurable': {'thread_id': '1', 'checkpoint_ns': '', 'checkpoint_id': '1f0706db-97f3-6468-8000-ee874a14a801'}}, tasks=(PregelTask(id='de0e37ff-672c-41e5-c318-6a0d3d3877fe', name='generate_explanation', path=('__pregel_pull', 'generate_explanation'), error=None, interrupts=(), state=None, result={'explanation': 'This joke plays on the literal meaning of an \"identity crisis\" applied to an inanimate object, using the different shapes associated with a pizza.\\n\\nHere\\'s the breakdown:\\n\\n1.  **Identity Crisis:** An \"identity crisis\" is when someone feels confused or conflicted about who they are, their purpose, or their fundamental nature.\\n2.  **The Pizza\\'s \"Conflicting Identities\":**\\n    *   **\"It was round\":** This is the pizza\\'s original, baked shape. It\\'s born round.\\n    *   **\"Came in a square box\":** Despite being round, it\\'s contained and transported in a box with a completely different shape – a square.\\n    *   **\"And you eat it in triangles!\":** When it\\'s served and consumed, it\\'s typically cut into triangular slices, yet another distinct shape.\\n\\nThe humor comes from the absurdity of an object experiencing such a conflict. The pizza literally takes on three distinct and clashing geometric identities (round, square, triangle) throughout its \"life cycle,\" creating a humorous parallel to a human identity crisis. It anthropomorphizes the pizza, giving it human-like feelings of confusion over its various shapes.'}),), interrupts=()),\n",
       " StateSnapshot(values={'topic': 'pizza'}, next=('generate_joke',), config={'configurable': {'thread_id': '1', 'checkpoint_ns': '', 'checkpoint_id': '1f0706db-97f3-6468-8000-ee874a14a801'}}, metadata={'source': 'loop', 'step': 0, 'parents': {}}, created_at='2025-08-03T13:28:21.435297+00:00', parent_config={'configurable': {'thread_id': '1', 'checkpoint_ns': '', 'checkpoint_id': '1f0706db-97f2-6180-bfff-14e08a45e4b7'}}, tasks=(PregelTask(id='57b26d5a-5e7c-ded7-0ebe-35cc1ef59427', name='generate_joke', path=('__pregel_pull', 'generate_joke'), error=None, interrupts=(), state=None, result={'joke': 'Why did the pizza have an identity crisis?\\n\\nBecause it was round, came in a square box, and you eat it in triangles!'}),), interrupts=()),\n",
       " StateSnapshot(values={}, next=('__start__',), config={'configurable': {'thread_id': '1', 'checkpoint_ns': '', 'checkpoint_id': '1f0706db-97f2-6180-bfff-14e08a45e4b7'}}, metadata={'source': 'input', 'step': -1, 'parents': {}}, created_at='2025-08-03T13:28:21.434813+00:00', parent_config=None, tasks=(PregelTask(id='f296e375-6070-9173-ab28-b5aa5deedab3', name='__start__', path=('__pregel_pull', '__start__'), error=None, interrupts=(), state=None, result={'topic': 'pizza'}),), interrupts=())]"
      ]
     },
     "execution_count": 11,
     "metadata": {},
     "output_type": "execute_result"
    }
   ],
   "source": [
    "list(workflow.get_state_history(config1))"
   ]
  },
  {
   "cell_type": "code",
   "execution_count": 12,
   "id": "628a9f28",
   "metadata": {},
   "outputs": [
    {
     "data": {
      "text/plain": [
       "{'topic': 'pasta',\n",
       " 'joke': \"Why did the pasta break up with the sauce?\\n\\nBecause he couldn't commit – he was always so **al dente**!\",\n",
       " 'explanation': 'This joke is a pun that plays on the literal meaning of the Italian culinary term **\"al dente\"** and its figurative association with a person\\'s personality or relationship style.\\n\\nHere\\'s the breakdown:\\n\\n1.  **Literal Meaning of \"Al Dente\":** In cooking, \"al dente\" (Italian for \"to the tooth\") describes pasta that is cooked until it\\'s still firm when bitten, not soft or mushy. It has a slight resistance or \"bite\" to it.\\n\\n2.  **The Pun/Figurative Meaning:** The humor comes from applying this cooking term to a person\\'s commitment level in a relationship.\\n    *   If someone is \"al dente\" in a relationship, it implies they are still **firm**, **resistant**, and haven\\'t fully **softened** or **yielded** to the commitment required in a serious relationship.\\n    *   They are \"not fully cooked\" into the relationship, metaphorically speaking, and are holding back or unable to fully \"blend\" and \"commit\" to their partner.\\n\\nSo, the joke personifies the pasta as someone who can\\'t fully give themselves to the relationship because they are \"al dente\" – still too firm and resistant to commit.'}"
      ]
     },
     "execution_count": 12,
     "metadata": {},
     "output_type": "execute_result"
    }
   ],
   "source": [
    "config2 = {\"configurable\": {\"thread_id\": \"2\"}}\n",
    "workflow.invoke({'topic':'pasta'}, config=config2)"
   ]
  },
  {
   "cell_type": "code",
   "execution_count": 13,
   "id": "eef5beb5",
   "metadata": {},
   "outputs": [
    {
     "data": {
      "text/plain": [
       "StateSnapshot(values={'topic': 'pizza', 'joke': 'Why did the pizza have an identity crisis?\\n\\nBecause it was round, came in a square box, and you eat it in triangles!', 'explanation': 'This joke plays on the literal meaning of an \"identity crisis\" applied to an inanimate object, using the different shapes associated with a pizza.\\n\\nHere\\'s the breakdown:\\n\\n1.  **Identity Crisis:** An \"identity crisis\" is when someone feels confused or conflicted about who they are, their purpose, or their fundamental nature.\\n2.  **The Pizza\\'s \"Conflicting Identities\":**\\n    *   **\"It was round\":** This is the pizza\\'s original, baked shape. It\\'s born round.\\n    *   **\"Came in a square box\":** Despite being round, it\\'s contained and transported in a box with a completely different shape – a square.\\n    *   **\"And you eat it in triangles!\":** When it\\'s served and consumed, it\\'s typically cut into triangular slices, yet another distinct shape.\\n\\nThe humor comes from the absurdity of an object experiencing such a conflict. The pizza literally takes on three distinct and clashing geometric identities (round, square, triangle) throughout its \"life cycle,\" creating a humorous parallel to a human identity crisis. It anthropomorphizes the pizza, giving it human-like feelings of confusion over its various shapes.'}, next=(), config={'configurable': {'thread_id': '1', 'checkpoint_ns': '', 'checkpoint_id': '1f0706dc-35f3-6a82-8002-cf4e9d490ebb'}}, metadata={'source': 'loop', 'step': 2, 'parents': {}}, created_at='2025-08-03T13:28:38.002915+00:00', parent_config={'configurable': {'thread_id': '1', 'checkpoint_ns': '', 'checkpoint_id': '1f0706db-f730-6bba-8001-009249d319b7'}}, tasks=(), interrupts=())"
      ]
     },
     "execution_count": 13,
     "metadata": {},
     "output_type": "execute_result"
    }
   ],
   "source": [
    "workflow.get_state(config1)"
   ]
  },
  {
   "cell_type": "code",
   "execution_count": 14,
   "id": "f7d0ea21",
   "metadata": {},
   "outputs": [
    {
     "data": {
      "text/plain": [
       "[StateSnapshot(values={'topic': 'pizza', 'joke': 'Why did the pizza have an identity crisis?\\n\\nBecause it was round, came in a square box, and you eat it in triangles!', 'explanation': 'This joke plays on the literal meaning of an \"identity crisis\" applied to an inanimate object, using the different shapes associated with a pizza.\\n\\nHere\\'s the breakdown:\\n\\n1.  **Identity Crisis:** An \"identity crisis\" is when someone feels confused or conflicted about who they are, their purpose, or their fundamental nature.\\n2.  **The Pizza\\'s \"Conflicting Identities\":**\\n    *   **\"It was round\":** This is the pizza\\'s original, baked shape. It\\'s born round.\\n    *   **\"Came in a square box\":** Despite being round, it\\'s contained and transported in a box with a completely different shape – a square.\\n    *   **\"And you eat it in triangles!\":** When it\\'s served and consumed, it\\'s typically cut into triangular slices, yet another distinct shape.\\n\\nThe humor comes from the absurdity of an object experiencing such a conflict. The pizza literally takes on three distinct and clashing geometric identities (round, square, triangle) throughout its \"life cycle,\" creating a humorous parallel to a human identity crisis. It anthropomorphizes the pizza, giving it human-like feelings of confusion over its various shapes.'}, next=(), config={'configurable': {'thread_id': '1', 'checkpoint_ns': '', 'checkpoint_id': '1f0706dc-35f3-6a82-8002-cf4e9d490ebb'}}, metadata={'source': 'loop', 'step': 2, 'parents': {}}, created_at='2025-08-03T13:28:38.002915+00:00', parent_config={'configurable': {'thread_id': '1', 'checkpoint_ns': '', 'checkpoint_id': '1f0706db-f730-6bba-8001-009249d319b7'}}, tasks=(), interrupts=()),\n",
       " StateSnapshot(values={'topic': 'pizza', 'joke': 'Why did the pizza have an identity crisis?\\n\\nBecause it was round, came in a square box, and you eat it in triangles!'}, next=('generate_explanation',), config={'configurable': {'thread_id': '1', 'checkpoint_ns': '', 'checkpoint_id': '1f0706db-f730-6bba-8001-009249d319b7'}}, metadata={'source': 'loop', 'step': 1, 'parents': {}}, created_at='2025-08-03T13:28:31.421920+00:00', parent_config={'configurable': {'thread_id': '1', 'checkpoint_ns': '', 'checkpoint_id': '1f0706db-97f3-6468-8000-ee874a14a801'}}, tasks=(PregelTask(id='de0e37ff-672c-41e5-c318-6a0d3d3877fe', name='generate_explanation', path=('__pregel_pull', 'generate_explanation'), error=None, interrupts=(), state=None, result={'explanation': 'This joke plays on the literal meaning of an \"identity crisis\" applied to an inanimate object, using the different shapes associated with a pizza.\\n\\nHere\\'s the breakdown:\\n\\n1.  **Identity Crisis:** An \"identity crisis\" is when someone feels confused or conflicted about who they are, their purpose, or their fundamental nature.\\n2.  **The Pizza\\'s \"Conflicting Identities\":**\\n    *   **\"It was round\":** This is the pizza\\'s original, baked shape. It\\'s born round.\\n    *   **\"Came in a square box\":** Despite being round, it\\'s contained and transported in a box with a completely different shape – a square.\\n    *   **\"And you eat it in triangles!\":** When it\\'s served and consumed, it\\'s typically cut into triangular slices, yet another distinct shape.\\n\\nThe humor comes from the absurdity of an object experiencing such a conflict. The pizza literally takes on three distinct and clashing geometric identities (round, square, triangle) throughout its \"life cycle,\" creating a humorous parallel to a human identity crisis. It anthropomorphizes the pizza, giving it human-like feelings of confusion over its various shapes.'}),), interrupts=()),\n",
       " StateSnapshot(values={'topic': 'pizza'}, next=('generate_joke',), config={'configurable': {'thread_id': '1', 'checkpoint_ns': '', 'checkpoint_id': '1f0706db-97f3-6468-8000-ee874a14a801'}}, metadata={'source': 'loop', 'step': 0, 'parents': {}}, created_at='2025-08-03T13:28:21.435297+00:00', parent_config={'configurable': {'thread_id': '1', 'checkpoint_ns': '', 'checkpoint_id': '1f0706db-97f2-6180-bfff-14e08a45e4b7'}}, tasks=(PregelTask(id='57b26d5a-5e7c-ded7-0ebe-35cc1ef59427', name='generate_joke', path=('__pregel_pull', 'generate_joke'), error=None, interrupts=(), state=None, result={'joke': 'Why did the pizza have an identity crisis?\\n\\nBecause it was round, came in a square box, and you eat it in triangles!'}),), interrupts=()),\n",
       " StateSnapshot(values={}, next=('__start__',), config={'configurable': {'thread_id': '1', 'checkpoint_ns': '', 'checkpoint_id': '1f0706db-97f2-6180-bfff-14e08a45e4b7'}}, metadata={'source': 'input', 'step': -1, 'parents': {}}, created_at='2025-08-03T13:28:21.434813+00:00', parent_config=None, tasks=(PregelTask(id='f296e375-6070-9173-ab28-b5aa5deedab3', name='__start__', path=('__pregel_pull', '__start__'), error=None, interrupts=(), state=None, result={'topic': 'pizza'}),), interrupts=())]"
      ]
     },
     "execution_count": 14,
     "metadata": {},
     "output_type": "execute_result"
    }
   ],
   "source": [
    "list(workflow.get_state_history(config1))"
   ]
  },
  {
   "cell_type": "markdown",
   "id": "5fccccee",
   "metadata": {},
   "source": [
    "### Time Travel"
   ]
  },
  {
   "cell_type": "code",
   "execution_count": 17,
   "id": "b5bfa235",
   "metadata": {},
   "outputs": [
    {
     "data": {
      "text/plain": [
       "StateSnapshot(values={'topic': 'pizza'}, next=('generate_joke',), config={'configurable': {'thread_id': '1', 'checkpoint_id': '1f0706db-97f3-6468-8000-ee874a14a801'}}, metadata={'source': 'loop', 'step': 0, 'parents': {}}, created_at='2025-08-03T13:28:21.435297+00:00', parent_config={'configurable': {'thread_id': '1', 'checkpoint_ns': '', 'checkpoint_id': '1f0706db-97f2-6180-bfff-14e08a45e4b7'}}, tasks=(PregelTask(id='57b26d5a-5e7c-ded7-0ebe-35cc1ef59427', name='generate_joke', path=('__pregel_pull', 'generate_joke'), error=None, interrupts=(), state=None, result={'joke': 'Why did the pizza have an identity crisis?\\n\\nBecause it was round, came in a square box, and you eat it in triangles!'}),), interrupts=())"
      ]
     },
     "execution_count": 17,
     "metadata": {},
     "output_type": "execute_result"
    }
   ],
   "source": [
    "workflow.get_state({\"configurable\": {\"thread_id\": \"1\", \"checkpoint_id\": \"1f0706db-97f3-6468-8000-ee874a14a801\"}})"
   ]
  },
  {
   "cell_type": "code",
   "execution_count": 19,
   "id": "1a7d2e73",
   "metadata": {},
   "outputs": [
    {
     "data": {
      "text/plain": [
       "{'topic': 'pizza',\n",
       " 'joke': 'Why did the pizza get a job?\\n\\nBecause it **kneaded** the **dough**!',\n",
       " 'explanation': 'This joke is a classic pun! It plays on the double meanings of two words: **\"kneaded\"** and **\"dough.\"**\\n\\nLet\\'s break it down:\\n\\n1.  **\"Kneaded\" (sounds like \"needed\")**:\\n    *   **Literal meaning (for pizza):** When you make pizza from scratch, you have to **knead** the dough. This is a physical process of pressing and folding the mixture.\\n    *   **Homophone meaning (for a person):** If someone \"needed\" a job, it means they **required** one, usually to earn money.\\n\\n2.  **\"Dough\"**:\\n    *   **Literal meaning (for pizza):** This refers to the raw mixture of flour, water, yeast, etc., that you make the pizza *from*.\\n    *   **Slang meaning (for a person):** \"Dough\" is a common, informal term for **money**.\\n\\n**Putting it together:**\\n\\nThe joke works because:\\n\\n*   **From a pizza\\'s perspective:** A pizza conceptually \"kneads\" its own \"dough\" (the food kind) as part of its creation process.\\n*   **From a human\\'s perspective:** People get jobs because they \"need dough\" (money) to live.\\n\\nThe humor comes from the clever wordplay that takes a literal action related to pizza (\"kneading dough\") and makes it sound exactly like a common human motivation for getting a job (\"needed money\"). The pizza is given a human-like reason for employment!'}"
      ]
     },
     "execution_count": 19,
     "metadata": {},
     "output_type": "execute_result"
    }
   ],
   "source": [
    "workflow.invoke(None, {\"configurable\": {\"thread_id\": \"1\", \"checkpoint_id\": \"1f0706db-97f3-6468-8000-ee874a14a801\"}})"
   ]
  },
  {
   "cell_type": "code",
   "execution_count": 20,
   "id": "cd55cf35",
   "metadata": {},
   "outputs": [
    {
     "data": {
      "text/plain": [
       "[StateSnapshot(values={'topic': 'pizza', 'joke': 'Why did the pizza get a job?\\n\\nBecause it **kneaded** the **dough**!', 'explanation': 'This joke is a classic pun! It plays on the double meanings of two words: **\"kneaded\"** and **\"dough.\"**\\n\\nLet\\'s break it down:\\n\\n1.  **\"Kneaded\" (sounds like \"needed\")**:\\n    *   **Literal meaning (for pizza):** When you make pizza from scratch, you have to **knead** the dough. This is a physical process of pressing and folding the mixture.\\n    *   **Homophone meaning (for a person):** If someone \"needed\" a job, it means they **required** one, usually to earn money.\\n\\n2.  **\"Dough\"**:\\n    *   **Literal meaning (for pizza):** This refers to the raw mixture of flour, water, yeast, etc., that you make the pizza *from*.\\n    *   **Slang meaning (for a person):** \"Dough\" is a common, informal term for **money**.\\n\\n**Putting it together:**\\n\\nThe joke works because:\\n\\n*   **From a pizza\\'s perspective:** A pizza conceptually \"kneads\" its own \"dough\" (the food kind) as part of its creation process.\\n*   **From a human\\'s perspective:** People get jobs because they \"need dough\" (money) to live.\\n\\nThe humor comes from the clever wordplay that takes a literal action related to pizza (\"kneading dough\") and makes it sound exactly like a common human motivation for getting a job (\"needed money\"). The pizza is given a human-like reason for employment!'}, next=(), config={'configurable': {'thread_id': '1', 'checkpoint_ns': '', 'checkpoint_id': '1f0706e1-49b4-6170-8002-3ffa88d37e71'}}, metadata={'source': 'loop', 'step': 2, 'parents': {}}, created_at='2025-08-03T13:30:54.291777+00:00', parent_config={'configurable': {'thread_id': '1', 'checkpoint_ns': '', 'checkpoint_id': '1f0706e1-06f1-6fe0-8001-69c7bbc7a2e4'}}, tasks=(), interrupts=()),\n",
       " StateSnapshot(values={'topic': 'pizza', 'joke': 'Why did the pizza get a job?\\n\\nBecause it **kneaded** the **dough**!'}, next=('generate_explanation',), config={'configurable': {'thread_id': '1', 'checkpoint_ns': '', 'checkpoint_id': '1f0706e1-06f1-6fe0-8001-69c7bbc7a2e4'}}, metadata={'source': 'loop', 'step': 1, 'parents': {}}, created_at='2025-08-03T13:30:47.291659+00:00', parent_config={'configurable': {'thread_id': '1', 'checkpoint_ns': '', 'checkpoint_id': '1f0706db-97f3-6468-8000-ee874a14a801'}}, tasks=(PregelTask(id='c6e719dc-8e39-9b67-7c80-be29e0a74f3e', name='generate_explanation', path=('__pregel_pull', 'generate_explanation'), error=None, interrupts=(), state=None, result={'explanation': 'This joke is a classic pun! It plays on the double meanings of two words: **\"kneaded\"** and **\"dough.\"**\\n\\nLet\\'s break it down:\\n\\n1.  **\"Kneaded\" (sounds like \"needed\")**:\\n    *   **Literal meaning (for pizza):** When you make pizza from scratch, you have to **knead** the dough. This is a physical process of pressing and folding the mixture.\\n    *   **Homophone meaning (for a person):** If someone \"needed\" a job, it means they **required** one, usually to earn money.\\n\\n2.  **\"Dough\"**:\\n    *   **Literal meaning (for pizza):** This refers to the raw mixture of flour, water, yeast, etc., that you make the pizza *from*.\\n    *   **Slang meaning (for a person):** \"Dough\" is a common, informal term for **money**.\\n\\n**Putting it together:**\\n\\nThe joke works because:\\n\\n*   **From a pizza\\'s perspective:** A pizza conceptually \"kneads\" its own \"dough\" (the food kind) as part of its creation process.\\n*   **From a human\\'s perspective:** People get jobs because they \"need dough\" (money) to live.\\n\\nThe humor comes from the clever wordplay that takes a literal action related to pizza (\"kneading dough\") and makes it sound exactly like a common human motivation for getting a job (\"needed money\"). The pizza is given a human-like reason for employment!'}),), interrupts=()),\n",
       " StateSnapshot(values={'topic': 'pizza', 'joke': 'Why did the pizza have an identity crisis?\\n\\nBecause it was round, came in a square box, and you eat it in triangles!', 'explanation': 'This joke plays on the literal meaning of an \"identity crisis\" applied to an inanimate object, using the different shapes associated with a pizza.\\n\\nHere\\'s the breakdown:\\n\\n1.  **Identity Crisis:** An \"identity crisis\" is when someone feels confused or conflicted about who they are, their purpose, or their fundamental nature.\\n2.  **The Pizza\\'s \"Conflicting Identities\":**\\n    *   **\"It was round\":** This is the pizza\\'s original, baked shape. It\\'s born round.\\n    *   **\"Came in a square box\":** Despite being round, it\\'s contained and transported in a box with a completely different shape – a square.\\n    *   **\"And you eat it in triangles!\":** When it\\'s served and consumed, it\\'s typically cut into triangular slices, yet another distinct shape.\\n\\nThe humor comes from the absurdity of an object experiencing such a conflict. The pizza literally takes on three distinct and clashing geometric identities (round, square, triangle) throughout its \"life cycle,\" creating a humorous parallel to a human identity crisis. It anthropomorphizes the pizza, giving it human-like feelings of confusion over its various shapes.'}, next=(), config={'configurable': {'thread_id': '1', 'checkpoint_ns': '', 'checkpoint_id': '1f0706dc-35f3-6a82-8002-cf4e9d490ebb'}}, metadata={'source': 'loop', 'step': 2, 'parents': {}}, created_at='2025-08-03T13:28:38.002915+00:00', parent_config={'configurable': {'thread_id': '1', 'checkpoint_ns': '', 'checkpoint_id': '1f0706db-f730-6bba-8001-009249d319b7'}}, tasks=(), interrupts=()),\n",
       " StateSnapshot(values={'topic': 'pizza', 'joke': 'Why did the pizza have an identity crisis?\\n\\nBecause it was round, came in a square box, and you eat it in triangles!'}, next=('generate_explanation',), config={'configurable': {'thread_id': '1', 'checkpoint_ns': '', 'checkpoint_id': '1f0706db-f730-6bba-8001-009249d319b7'}}, metadata={'source': 'loop', 'step': 1, 'parents': {}}, created_at='2025-08-03T13:28:31.421920+00:00', parent_config={'configurable': {'thread_id': '1', 'checkpoint_ns': '', 'checkpoint_id': '1f0706db-97f3-6468-8000-ee874a14a801'}}, tasks=(PregelTask(id='de0e37ff-672c-41e5-c318-6a0d3d3877fe', name='generate_explanation', path=('__pregel_pull', 'generate_explanation'), error=None, interrupts=(), state=None, result={'explanation': 'This joke plays on the literal meaning of an \"identity crisis\" applied to an inanimate object, using the different shapes associated with a pizza.\\n\\nHere\\'s the breakdown:\\n\\n1.  **Identity Crisis:** An \"identity crisis\" is when someone feels confused or conflicted about who they are, their purpose, or their fundamental nature.\\n2.  **The Pizza\\'s \"Conflicting Identities\":**\\n    *   **\"It was round\":** This is the pizza\\'s original, baked shape. It\\'s born round.\\n    *   **\"Came in a square box\":** Despite being round, it\\'s contained and transported in a box with a completely different shape – a square.\\n    *   **\"And you eat it in triangles!\":** When it\\'s served and consumed, it\\'s typically cut into triangular slices, yet another distinct shape.\\n\\nThe humor comes from the absurdity of an object experiencing such a conflict. The pizza literally takes on three distinct and clashing geometric identities (round, square, triangle) throughout its \"life cycle,\" creating a humorous parallel to a human identity crisis. It anthropomorphizes the pizza, giving it human-like feelings of confusion over its various shapes.'}),), interrupts=()),\n",
       " StateSnapshot(values={'topic': 'pizza'}, next=('generate_joke',), config={'configurable': {'thread_id': '1', 'checkpoint_ns': '', 'checkpoint_id': '1f0706db-97f3-6468-8000-ee874a14a801'}}, metadata={'source': 'loop', 'step': 0, 'parents': {}}, created_at='2025-08-03T13:28:21.435297+00:00', parent_config={'configurable': {'thread_id': '1', 'checkpoint_ns': '', 'checkpoint_id': '1f0706db-97f2-6180-bfff-14e08a45e4b7'}}, tasks=(PregelTask(id='57b26d5a-5e7c-ded7-0ebe-35cc1ef59427', name='generate_joke', path=('__pregel_pull', 'generate_joke'), error=None, interrupts=(), state=None, result={'joke': 'Why did the pizza have an identity crisis?\\n\\nBecause it was round, came in a square box, and you eat it in triangles!'}),), interrupts=()),\n",
       " StateSnapshot(values={}, next=('__start__',), config={'configurable': {'thread_id': '1', 'checkpoint_ns': '', 'checkpoint_id': '1f0706db-97f2-6180-bfff-14e08a45e4b7'}}, metadata={'source': 'input', 'step': -1, 'parents': {}}, created_at='2025-08-03T13:28:21.434813+00:00', parent_config=None, tasks=(PregelTask(id='f296e375-6070-9173-ab28-b5aa5deedab3', name='__start__', path=('__pregel_pull', '__start__'), error=None, interrupts=(), state=None, result={'topic': 'pizza'}),), interrupts=())]"
      ]
     },
     "execution_count": 20,
     "metadata": {},
     "output_type": "execute_result"
    }
   ],
   "source": [
    "list(workflow.get_state_history(config1))"
   ]
  },
  {
   "cell_type": "markdown",
   "id": "ab1b895e",
   "metadata": {},
   "source": [
    "#### Updating State"
   ]
  },
  {
   "cell_type": "code",
   "execution_count": 21,
   "id": "19378d86",
   "metadata": {},
   "outputs": [
    {
     "data": {
      "text/plain": [
       "{'configurable': {'thread_id': '1',\n",
       "  'checkpoint_ns': '',\n",
       "  'checkpoint_id': '1f0706e4-9459-66b4-8001-5865c8675bc0'}}"
      ]
     },
     "execution_count": 21,
     "metadata": {},
     "output_type": "execute_result"
    }
   ],
   "source": [
    "workflow.update_state({\"configurable\": {\"thread_id\": \"1\", \"checkpoint_id\": \"1f0706db-97f3-6468-8000-ee874a14a801\", \"checkpoint_ns\": \"\"}}, {'topic':'samosa'})"
   ]
  },
  {
   "cell_type": "code",
   "execution_count": 22,
   "id": "7c486bff",
   "metadata": {},
   "outputs": [
    {
     "data": {
      "text/plain": [
       "[StateSnapshot(values={'topic': 'samosa'}, next=('generate_joke',), config={'configurable': {'thread_id': '1', 'checkpoint_ns': '', 'checkpoint_id': '1f0706e4-9459-66b4-8001-5865c8675bc0'}}, metadata={'source': 'update', 'step': 1, 'parents': {}}, created_at='2025-08-03T13:32:22.649588+00:00', parent_config={'configurable': {'thread_id': '1', 'checkpoint_ns': '', 'checkpoint_id': '1f0706db-97f3-6468-8000-ee874a14a801'}}, tasks=(PregelTask(id='a2ece96f-e80c-983e-3505-6b414fdb3c0e', name='generate_joke', path=('__pregel_pull', 'generate_joke'), error=None, interrupts=(), state=None, result=None),), interrupts=()),\n",
       " StateSnapshot(values={'topic': 'pizza', 'joke': 'Why did the pizza get a job?\\n\\nBecause it **kneaded** the **dough**!', 'explanation': 'This joke is a classic pun! It plays on the double meanings of two words: **\"kneaded\"** and **\"dough.\"**\\n\\nLet\\'s break it down:\\n\\n1.  **\"Kneaded\" (sounds like \"needed\")**:\\n    *   **Literal meaning (for pizza):** When you make pizza from scratch, you have to **knead** the dough. This is a physical process of pressing and folding the mixture.\\n    *   **Homophone meaning (for a person):** If someone \"needed\" a job, it means they **required** one, usually to earn money.\\n\\n2.  **\"Dough\"**:\\n    *   **Literal meaning (for pizza):** This refers to the raw mixture of flour, water, yeast, etc., that you make the pizza *from*.\\n    *   **Slang meaning (for a person):** \"Dough\" is a common, informal term for **money**.\\n\\n**Putting it together:**\\n\\nThe joke works because:\\n\\n*   **From a pizza\\'s perspective:** A pizza conceptually \"kneads\" its own \"dough\" (the food kind) as part of its creation process.\\n*   **From a human\\'s perspective:** People get jobs because they \"need dough\" (money) to live.\\n\\nThe humor comes from the clever wordplay that takes a literal action related to pizza (\"kneading dough\") and makes it sound exactly like a common human motivation for getting a job (\"needed money\"). The pizza is given a human-like reason for employment!'}, next=(), config={'configurable': {'thread_id': '1', 'checkpoint_ns': '', 'checkpoint_id': '1f0706e1-49b4-6170-8002-3ffa88d37e71'}}, metadata={'source': 'loop', 'step': 2, 'parents': {}}, created_at='2025-08-03T13:30:54.291777+00:00', parent_config={'configurable': {'thread_id': '1', 'checkpoint_ns': '', 'checkpoint_id': '1f0706e1-06f1-6fe0-8001-69c7bbc7a2e4'}}, tasks=(), interrupts=()),\n",
       " StateSnapshot(values={'topic': 'pizza', 'joke': 'Why did the pizza get a job?\\n\\nBecause it **kneaded** the **dough**!'}, next=('generate_explanation',), config={'configurable': {'thread_id': '1', 'checkpoint_ns': '', 'checkpoint_id': '1f0706e1-06f1-6fe0-8001-69c7bbc7a2e4'}}, metadata={'source': 'loop', 'step': 1, 'parents': {}}, created_at='2025-08-03T13:30:47.291659+00:00', parent_config={'configurable': {'thread_id': '1', 'checkpoint_ns': '', 'checkpoint_id': '1f0706db-97f3-6468-8000-ee874a14a801'}}, tasks=(PregelTask(id='c6e719dc-8e39-9b67-7c80-be29e0a74f3e', name='generate_explanation', path=('__pregel_pull', 'generate_explanation'), error=None, interrupts=(), state=None, result={'explanation': 'This joke is a classic pun! It plays on the double meanings of two words: **\"kneaded\"** and **\"dough.\"**\\n\\nLet\\'s break it down:\\n\\n1.  **\"Kneaded\" (sounds like \"needed\")**:\\n    *   **Literal meaning (for pizza):** When you make pizza from scratch, you have to **knead** the dough. This is a physical process of pressing and folding the mixture.\\n    *   **Homophone meaning (for a person):** If someone \"needed\" a job, it means they **required** one, usually to earn money.\\n\\n2.  **\"Dough\"**:\\n    *   **Literal meaning (for pizza):** This refers to the raw mixture of flour, water, yeast, etc., that you make the pizza *from*.\\n    *   **Slang meaning (for a person):** \"Dough\" is a common, informal term for **money**.\\n\\n**Putting it together:**\\n\\nThe joke works because:\\n\\n*   **From a pizza\\'s perspective:** A pizza conceptually \"kneads\" its own \"dough\" (the food kind) as part of its creation process.\\n*   **From a human\\'s perspective:** People get jobs because they \"need dough\" (money) to live.\\n\\nThe humor comes from the clever wordplay that takes a literal action related to pizza (\"kneading dough\") and makes it sound exactly like a common human motivation for getting a job (\"needed money\"). The pizza is given a human-like reason for employment!'}),), interrupts=()),\n",
       " StateSnapshot(values={'topic': 'pizza', 'joke': 'Why did the pizza have an identity crisis?\\n\\nBecause it was round, came in a square box, and you eat it in triangles!', 'explanation': 'This joke plays on the literal meaning of an \"identity crisis\" applied to an inanimate object, using the different shapes associated with a pizza.\\n\\nHere\\'s the breakdown:\\n\\n1.  **Identity Crisis:** An \"identity crisis\" is when someone feels confused or conflicted about who they are, their purpose, or their fundamental nature.\\n2.  **The Pizza\\'s \"Conflicting Identities\":**\\n    *   **\"It was round\":** This is the pizza\\'s original, baked shape. It\\'s born round.\\n    *   **\"Came in a square box\":** Despite being round, it\\'s contained and transported in a box with a completely different shape – a square.\\n    *   **\"And you eat it in triangles!\":** When it\\'s served and consumed, it\\'s typically cut into triangular slices, yet another distinct shape.\\n\\nThe humor comes from the absurdity of an object experiencing such a conflict. The pizza literally takes on three distinct and clashing geometric identities (round, square, triangle) throughout its \"life cycle,\" creating a humorous parallel to a human identity crisis. It anthropomorphizes the pizza, giving it human-like feelings of confusion over its various shapes.'}, next=(), config={'configurable': {'thread_id': '1', 'checkpoint_ns': '', 'checkpoint_id': '1f0706dc-35f3-6a82-8002-cf4e9d490ebb'}}, metadata={'source': 'loop', 'step': 2, 'parents': {}}, created_at='2025-08-03T13:28:38.002915+00:00', parent_config={'configurable': {'thread_id': '1', 'checkpoint_ns': '', 'checkpoint_id': '1f0706db-f730-6bba-8001-009249d319b7'}}, tasks=(), interrupts=()),\n",
       " StateSnapshot(values={'topic': 'pizza', 'joke': 'Why did the pizza have an identity crisis?\\n\\nBecause it was round, came in a square box, and you eat it in triangles!'}, next=('generate_explanation',), config={'configurable': {'thread_id': '1', 'checkpoint_ns': '', 'checkpoint_id': '1f0706db-f730-6bba-8001-009249d319b7'}}, metadata={'source': 'loop', 'step': 1, 'parents': {}}, created_at='2025-08-03T13:28:31.421920+00:00', parent_config={'configurable': {'thread_id': '1', 'checkpoint_ns': '', 'checkpoint_id': '1f0706db-97f3-6468-8000-ee874a14a801'}}, tasks=(PregelTask(id='de0e37ff-672c-41e5-c318-6a0d3d3877fe', name='generate_explanation', path=('__pregel_pull', 'generate_explanation'), error=None, interrupts=(), state=None, result={'explanation': 'This joke plays on the literal meaning of an \"identity crisis\" applied to an inanimate object, using the different shapes associated with a pizza.\\n\\nHere\\'s the breakdown:\\n\\n1.  **Identity Crisis:** An \"identity crisis\" is when someone feels confused or conflicted about who they are, their purpose, or their fundamental nature.\\n2.  **The Pizza\\'s \"Conflicting Identities\":**\\n    *   **\"It was round\":** This is the pizza\\'s original, baked shape. It\\'s born round.\\n    *   **\"Came in a square box\":** Despite being round, it\\'s contained and transported in a box with a completely different shape – a square.\\n    *   **\"And you eat it in triangles!\":** When it\\'s served and consumed, it\\'s typically cut into triangular slices, yet another distinct shape.\\n\\nThe humor comes from the absurdity of an object experiencing such a conflict. The pizza literally takes on three distinct and clashing geometric identities (round, square, triangle) throughout its \"life cycle,\" creating a humorous parallel to a human identity crisis. It anthropomorphizes the pizza, giving it human-like feelings of confusion over its various shapes.'}),), interrupts=()),\n",
       " StateSnapshot(values={'topic': 'pizza'}, next=('generate_joke',), config={'configurable': {'thread_id': '1', 'checkpoint_ns': '', 'checkpoint_id': '1f0706db-97f3-6468-8000-ee874a14a801'}}, metadata={'source': 'loop', 'step': 0, 'parents': {}}, created_at='2025-08-03T13:28:21.435297+00:00', parent_config={'configurable': {'thread_id': '1', 'checkpoint_ns': '', 'checkpoint_id': '1f0706db-97f2-6180-bfff-14e08a45e4b7'}}, tasks=(PregelTask(id='57b26d5a-5e7c-ded7-0ebe-35cc1ef59427', name='generate_joke', path=('__pregel_pull', 'generate_joke'), error=None, interrupts=(), state=None, result={'joke': 'Why did the pizza have an identity crisis?\\n\\nBecause it was round, came in a square box, and you eat it in triangles!'}),), interrupts=()),\n",
       " StateSnapshot(values={}, next=('__start__',), config={'configurable': {'thread_id': '1', 'checkpoint_ns': '', 'checkpoint_id': '1f0706db-97f2-6180-bfff-14e08a45e4b7'}}, metadata={'source': 'input', 'step': -1, 'parents': {}}, created_at='2025-08-03T13:28:21.434813+00:00', parent_config=None, tasks=(PregelTask(id='f296e375-6070-9173-ab28-b5aa5deedab3', name='__start__', path=('__pregel_pull', '__start__'), error=None, interrupts=(), state=None, result={'topic': 'pizza'}),), interrupts=())]"
      ]
     },
     "execution_count": 22,
     "metadata": {},
     "output_type": "execute_result"
    }
   ],
   "source": [
    "list(workflow.get_state_history(config1))"
   ]
  },
  {
   "cell_type": "code",
   "execution_count": 25,
   "id": "58f63a80",
   "metadata": {},
   "outputs": [
    {
     "data": {
      "text/plain": [
       "{'topic': 'samosa',\n",
       " 'joke': 'Why did the samosa get an award?\\nBecause it was outstanding in its *field*... of potatoes!',\n",
       " 'explanation': 'This joke plays on a **pun**, specifically with the word \"field\" and its different meanings.\\n\\nHere\\'s the breakdown:\\n\\n1.  **\"Outstanding in its *field*\" (Idiomatic Meaning):**\\n    *   This is a common English idiom meaning \"exceptionally good\" or \"the best in a particular area, profession, or domain.\"\\n    *   For example, \"Dr. Smith is outstanding in her *field* of neuroscience.\"\\n    *   When you first hear \"Why did the samosa get an award? Because it was outstanding in its *field*...\", your brain initially expects this meaning – that the samosa was an exceptionally good samosa, perhaps the best in the \"culinary field.\"\\n\\n2.  **\"Field of potatoes\" (Literal/Pun Meaning):**\\n    *   This is where the twist comes in. A samosa is a pastry *filled* with a mixture, often primarily potatoes.\\n    *   The word \"field\" sounds very similar to \"filled\" (phonetic pun).\\n    *   So, the joke reinterprets \"outstanding in its field\" to mean the samosa was literally \"sticking out\" or \"prominent\" within its *filling* or \"field\" of potatoes. Imagine cutting open a samosa, and those potatoes are definitely \"outstanding\" (standing out) inside!\\n    *   There\\'s also a slight secondary, literal meaning of \"field\" as an actual agricultural field where potatoes grow, but the primary pun is the sound-alike with \"filled.\"\\n\\n**In essence, the humor comes from:**\\n\\n*   The **misdirection**: Leading you to think of the common idiom.\\n*   The **reveal**: Suddenly switching to a literal, food-related interpretation of \"field\" that relies on the sound similarity to \"filled,\" creating a silly and unexpected image.\\n\\nIt\\'s a classic example of a \"dad joke\" – simple, a bit silly, and reliant on clever wordplay!'}"
      ]
     },
     "execution_count": 25,
     "metadata": {},
     "output_type": "execute_result"
    }
   ],
   "source": [
    "workflow.invoke(None, {\"configurable\": {\"thread_id\": \"1\", \"checkpoint_id\": \"1f0706e4-9459-66b4-8001-5865c8675bc0\"}})"
   ]
  },
  {
   "cell_type": "code",
   "execution_count": 26,
   "id": "db645da9",
   "metadata": {},
   "outputs": [
    {
     "data": {
      "text/plain": [
       "[StateSnapshot(values={'topic': 'samosa', 'joke': 'Why did the samosa get an award?\\nBecause it was outstanding in its *field*... of potatoes!', 'explanation': 'This joke plays on a **pun**, specifically with the word \"field\" and its different meanings.\\n\\nHere\\'s the breakdown:\\n\\n1.  **\"Outstanding in its *field*\" (Idiomatic Meaning):**\\n    *   This is a common English idiom meaning \"exceptionally good\" or \"the best in a particular area, profession, or domain.\"\\n    *   For example, \"Dr. Smith is outstanding in her *field* of neuroscience.\"\\n    *   When you first hear \"Why did the samosa get an award? Because it was outstanding in its *field*...\", your brain initially expects this meaning – that the samosa was an exceptionally good samosa, perhaps the best in the \"culinary field.\"\\n\\n2.  **\"Field of potatoes\" (Literal/Pun Meaning):**\\n    *   This is where the twist comes in. A samosa is a pastry *filled* with a mixture, often primarily potatoes.\\n    *   The word \"field\" sounds very similar to \"filled\" (phonetic pun).\\n    *   So, the joke reinterprets \"outstanding in its field\" to mean the samosa was literally \"sticking out\" or \"prominent\" within its *filling* or \"field\" of potatoes. Imagine cutting open a samosa, and those potatoes are definitely \"outstanding\" (standing out) inside!\\n    *   There\\'s also a slight secondary, literal meaning of \"field\" as an actual agricultural field where potatoes grow, but the primary pun is the sound-alike with \"filled.\"\\n\\n**In essence, the humor comes from:**\\n\\n*   The **misdirection**: Leading you to think of the common idiom.\\n*   The **reveal**: Suddenly switching to a literal, food-related interpretation of \"field\" that relies on the sound similarity to \"filled,\" creating a silly and unexpected image.\\n\\nIt\\'s a classic example of a \"dad joke\" – simple, a bit silly, and reliant on clever wordplay!'}, next=(), config={'configurable': {'thread_id': '1', 'checkpoint_ns': '', 'checkpoint_id': '1f0706e9-8b98-6e30-8003-2d40cda68f71'}}, metadata={'source': 'loop', 'step': 3, 'parents': {}}, created_at='2025-08-03T13:34:35.949587+00:00', parent_config={'configurable': {'thread_id': '1', 'checkpoint_ns': '', 'checkpoint_id': '1f0706e9-3857-66cc-8002-fdb1465ed2ec'}}, tasks=(), interrupts=()),\n",
       " StateSnapshot(values={'topic': 'samosa', 'joke': 'Why did the samosa get an award?\\nBecause it was outstanding in its *field*... of potatoes!'}, next=('generate_explanation',), config={'configurable': {'thread_id': '1', 'checkpoint_ns': '', 'checkpoint_id': '1f0706e9-3857-66cc-8002-fdb1465ed2ec'}}, metadata={'source': 'loop', 'step': 2, 'parents': {}}, created_at='2025-08-03T13:34:27.219576+00:00', parent_config={'configurable': {'thread_id': '1', 'checkpoint_ns': '', 'checkpoint_id': '1f0706e4-9459-66b4-8001-5865c8675bc0'}}, tasks=(PregelTask(id='f3836cc7-919b-6f62-3b15-8a9c5400987e', name='generate_explanation', path=('__pregel_pull', 'generate_explanation'), error=None, interrupts=(), state=None, result={'explanation': 'This joke plays on a **pun**, specifically with the word \"field\" and its different meanings.\\n\\nHere\\'s the breakdown:\\n\\n1.  **\"Outstanding in its *field*\" (Idiomatic Meaning):**\\n    *   This is a common English idiom meaning \"exceptionally good\" or \"the best in a particular area, profession, or domain.\"\\n    *   For example, \"Dr. Smith is outstanding in her *field* of neuroscience.\"\\n    *   When you first hear \"Why did the samosa get an award? Because it was outstanding in its *field*...\", your brain initially expects this meaning – that the samosa was an exceptionally good samosa, perhaps the best in the \"culinary field.\"\\n\\n2.  **\"Field of potatoes\" (Literal/Pun Meaning):**\\n    *   This is where the twist comes in. A samosa is a pastry *filled* with a mixture, often primarily potatoes.\\n    *   The word \"field\" sounds very similar to \"filled\" (phonetic pun).\\n    *   So, the joke reinterprets \"outstanding in its field\" to mean the samosa was literally \"sticking out\" or \"prominent\" within its *filling* or \"field\" of potatoes. Imagine cutting open a samosa, and those potatoes are definitely \"outstanding\" (standing out) inside!\\n    *   There\\'s also a slight secondary, literal meaning of \"field\" as an actual agricultural field where potatoes grow, but the primary pun is the sound-alike with \"filled.\"\\n\\n**In essence, the humor comes from:**\\n\\n*   The **misdirection**: Leading you to think of the common idiom.\\n*   The **reveal**: Suddenly switching to a literal, food-related interpretation of \"field\" that relies on the sound similarity to \"filled,\" creating a silly and unexpected image.\\n\\nIt\\'s a classic example of a \"dad joke\" – simple, a bit silly, and reliant on clever wordplay!'}),), interrupts=()),\n",
       " StateSnapshot(values={'topic': 'pizza', 'joke': 'Why did the pizza chef break up with the cheese?\\n\\nBecause he thought it was too **cheesy**!', 'explanation': 'This joke is a classic example of a **pun**, which relies on a word having two different meanings.\\n\\nLet\\'s break it down:\\n\\n1.  **\"Cheesy\" (Literal Meaning):** When applied to food, especially pizza, \"cheesy\" literally means it contains a lot of cheese or has a strong cheese flavor. This is usually a *good* thing when it comes to pizza!\\n\\n2.  **\"Cheesy\" (Idiomatic/Figurative Meaning):** Outside of food, \"cheesy\" is an informal adjective meaning:\\n    *   **Corny, trite, unoriginal, predictable.**\\n    *   **Overly sentimental or mawkish.**\\n    *   **Lacking in taste or style; cheap or tacky.**\\n    *   Think of a \"cheesy pick-up line\" or a \"cheesy romantic movie scene.\"\\n\\n**The Humor:**\\n\\nThe humor comes from the **unexpected shift** from the literal meaning of \"cheesy\" (lots of cheese) to the figurative meaning (corny/tacky).\\n\\n*   You expect the chef to have a problem with the cheese related to its *food properties* (maybe it\\'s moldy, or the wrong kind).\\n*   Instead, the joke personifies the cheese, making it seem like it has human-like qualities that can be \"too cheesy\" in the sense of being silly, predictable, or overly sentimental, leading the chef to \"break up\" with it as if it were a relationship gone stale.\\n\\nIt\\'s a lighthearted wordplay joke that plays on our knowledge of common English idioms.'}, next=(), config={'configurable': {'thread_id': '1', 'checkpoint_ns': '', 'checkpoint_id': '1f0706e7-33e0-62d0-8002-dc7a09fe0e59'}}, metadata={'source': 'loop', 'step': 2, 'parents': {}}, created_at='2025-08-03T13:33:33.064235+00:00', parent_config={'configurable': {'thread_id': '1', 'checkpoint_ns': '', 'checkpoint_id': '1f0706e6-e877-641a-8001-f75ffb6a010a'}}, tasks=(), interrupts=()),\n",
       " StateSnapshot(values={'topic': 'pizza', 'joke': 'Why did the pizza chef break up with the cheese?\\n\\nBecause he thought it was too **cheesy**!'}, next=('generate_explanation',), config={'configurable': {'thread_id': '1', 'checkpoint_ns': '', 'checkpoint_id': '1f0706e6-e877-641a-8001-f75ffb6a010a'}}, metadata={'source': 'loop', 'step': 1, 'parents': {}}, created_at='2025-08-03T13:33:25.156917+00:00', parent_config={'configurable': {'thread_id': '1', 'checkpoint_ns': '', 'checkpoint_id': '1f0706db-97f3-6468-8000-ee874a14a801'}}, tasks=(PregelTask(id='e202ea0a-8646-9655-0a9d-a1f92ff784ff', name='generate_explanation', path=('__pregel_pull', 'generate_explanation'), error=None, interrupts=(), state=None, result={'explanation': 'This joke is a classic example of a **pun**, which relies on a word having two different meanings.\\n\\nLet\\'s break it down:\\n\\n1.  **\"Cheesy\" (Literal Meaning):** When applied to food, especially pizza, \"cheesy\" literally means it contains a lot of cheese or has a strong cheese flavor. This is usually a *good* thing when it comes to pizza!\\n\\n2.  **\"Cheesy\" (Idiomatic/Figurative Meaning):** Outside of food, \"cheesy\" is an informal adjective meaning:\\n    *   **Corny, trite, unoriginal, predictable.**\\n    *   **Overly sentimental or mawkish.**\\n    *   **Lacking in taste or style; cheap or tacky.**\\n    *   Think of a \"cheesy pick-up line\" or a \"cheesy romantic movie scene.\"\\n\\n**The Humor:**\\n\\nThe humor comes from the **unexpected shift** from the literal meaning of \"cheesy\" (lots of cheese) to the figurative meaning (corny/tacky).\\n\\n*   You expect the chef to have a problem with the cheese related to its *food properties* (maybe it\\'s moldy, or the wrong kind).\\n*   Instead, the joke personifies the cheese, making it seem like it has human-like qualities that can be \"too cheesy\" in the sense of being silly, predictable, or overly sentimental, leading the chef to \"break up\" with it as if it were a relationship gone stale.\\n\\nIt\\'s a lighthearted wordplay joke that plays on our knowledge of common English idioms.'}),), interrupts=()),\n",
       " StateSnapshot(values={'topic': 'samosa'}, next=('generate_joke',), config={'configurable': {'thread_id': '1', 'checkpoint_ns': '', 'checkpoint_id': '1f0706e4-9459-66b4-8001-5865c8675bc0'}}, metadata={'source': 'update', 'step': 1, 'parents': {}}, created_at='2025-08-03T13:32:22.649588+00:00', parent_config={'configurable': {'thread_id': '1', 'checkpoint_ns': '', 'checkpoint_id': '1f0706db-97f3-6468-8000-ee874a14a801'}}, tasks=(PregelTask(id='a2ece96f-e80c-983e-3505-6b414fdb3c0e', name='generate_joke', path=('__pregel_pull', 'generate_joke'), error=None, interrupts=(), state=None, result={'joke': 'Why did the samosa get an award?\\nBecause it was outstanding in its *field*... of potatoes!'}),), interrupts=()),\n",
       " StateSnapshot(values={'topic': 'pizza', 'joke': 'Why did the pizza get a job?\\n\\nBecause it **kneaded** the **dough**!', 'explanation': 'This joke is a classic pun! It plays on the double meanings of two words: **\"kneaded\"** and **\"dough.\"**\\n\\nLet\\'s break it down:\\n\\n1.  **\"Kneaded\" (sounds like \"needed\")**:\\n    *   **Literal meaning (for pizza):** When you make pizza from scratch, you have to **knead** the dough. This is a physical process of pressing and folding the mixture.\\n    *   **Homophone meaning (for a person):** If someone \"needed\" a job, it means they **required** one, usually to earn money.\\n\\n2.  **\"Dough\"**:\\n    *   **Literal meaning (for pizza):** This refers to the raw mixture of flour, water, yeast, etc., that you make the pizza *from*.\\n    *   **Slang meaning (for a person):** \"Dough\" is a common, informal term for **money**.\\n\\n**Putting it together:**\\n\\nThe joke works because:\\n\\n*   **From a pizza\\'s perspective:** A pizza conceptually \"kneads\" its own \"dough\" (the food kind) as part of its creation process.\\n*   **From a human\\'s perspective:** People get jobs because they \"need dough\" (money) to live.\\n\\nThe humor comes from the clever wordplay that takes a literal action related to pizza (\"kneading dough\") and makes it sound exactly like a common human motivation for getting a job (\"needed money\"). The pizza is given a human-like reason for employment!'}, next=(), config={'configurable': {'thread_id': '1', 'checkpoint_ns': '', 'checkpoint_id': '1f0706e1-49b4-6170-8002-3ffa88d37e71'}}, metadata={'source': 'loop', 'step': 2, 'parents': {}}, created_at='2025-08-03T13:30:54.291777+00:00', parent_config={'configurable': {'thread_id': '1', 'checkpoint_ns': '', 'checkpoint_id': '1f0706e1-06f1-6fe0-8001-69c7bbc7a2e4'}}, tasks=(), interrupts=()),\n",
       " StateSnapshot(values={'topic': 'pizza', 'joke': 'Why did the pizza get a job?\\n\\nBecause it **kneaded** the **dough**!'}, next=('generate_explanation',), config={'configurable': {'thread_id': '1', 'checkpoint_ns': '', 'checkpoint_id': '1f0706e1-06f1-6fe0-8001-69c7bbc7a2e4'}}, metadata={'source': 'loop', 'step': 1, 'parents': {}}, created_at='2025-08-03T13:30:47.291659+00:00', parent_config={'configurable': {'thread_id': '1', 'checkpoint_ns': '', 'checkpoint_id': '1f0706db-97f3-6468-8000-ee874a14a801'}}, tasks=(PregelTask(id='c6e719dc-8e39-9b67-7c80-be29e0a74f3e', name='generate_explanation', path=('__pregel_pull', 'generate_explanation'), error=None, interrupts=(), state=None, result={'explanation': 'This joke is a classic pun! It plays on the double meanings of two words: **\"kneaded\"** and **\"dough.\"**\\n\\nLet\\'s break it down:\\n\\n1.  **\"Kneaded\" (sounds like \"needed\")**:\\n    *   **Literal meaning (for pizza):** When you make pizza from scratch, you have to **knead** the dough. This is a physical process of pressing and folding the mixture.\\n    *   **Homophone meaning (for a person):** If someone \"needed\" a job, it means they **required** one, usually to earn money.\\n\\n2.  **\"Dough\"**:\\n    *   **Literal meaning (for pizza):** This refers to the raw mixture of flour, water, yeast, etc., that you make the pizza *from*.\\n    *   **Slang meaning (for a person):** \"Dough\" is a common, informal term for **money**.\\n\\n**Putting it together:**\\n\\nThe joke works because:\\n\\n*   **From a pizza\\'s perspective:** A pizza conceptually \"kneads\" its own \"dough\" (the food kind) as part of its creation process.\\n*   **From a human\\'s perspective:** People get jobs because they \"need dough\" (money) to live.\\n\\nThe humor comes from the clever wordplay that takes a literal action related to pizza (\"kneading dough\") and makes it sound exactly like a common human motivation for getting a job (\"needed money\"). The pizza is given a human-like reason for employment!'}),), interrupts=()),\n",
       " StateSnapshot(values={'topic': 'pizza', 'joke': 'Why did the pizza have an identity crisis?\\n\\nBecause it was round, came in a square box, and you eat it in triangles!', 'explanation': 'This joke plays on the literal meaning of an \"identity crisis\" applied to an inanimate object, using the different shapes associated with a pizza.\\n\\nHere\\'s the breakdown:\\n\\n1.  **Identity Crisis:** An \"identity crisis\" is when someone feels confused or conflicted about who they are, their purpose, or their fundamental nature.\\n2.  **The Pizza\\'s \"Conflicting Identities\":**\\n    *   **\"It was round\":** This is the pizza\\'s original, baked shape. It\\'s born round.\\n    *   **\"Came in a square box\":** Despite being round, it\\'s contained and transported in a box with a completely different shape – a square.\\n    *   **\"And you eat it in triangles!\":** When it\\'s served and consumed, it\\'s typically cut into triangular slices, yet another distinct shape.\\n\\nThe humor comes from the absurdity of an object experiencing such a conflict. The pizza literally takes on three distinct and clashing geometric identities (round, square, triangle) throughout its \"life cycle,\" creating a humorous parallel to a human identity crisis. It anthropomorphizes the pizza, giving it human-like feelings of confusion over its various shapes.'}, next=(), config={'configurable': {'thread_id': '1', 'checkpoint_ns': '', 'checkpoint_id': '1f0706dc-35f3-6a82-8002-cf4e9d490ebb'}}, metadata={'source': 'loop', 'step': 2, 'parents': {}}, created_at='2025-08-03T13:28:38.002915+00:00', parent_config={'configurable': {'thread_id': '1', 'checkpoint_ns': '', 'checkpoint_id': '1f0706db-f730-6bba-8001-009249d319b7'}}, tasks=(), interrupts=()),\n",
       " StateSnapshot(values={'topic': 'pizza', 'joke': 'Why did the pizza have an identity crisis?\\n\\nBecause it was round, came in a square box, and you eat it in triangles!'}, next=('generate_explanation',), config={'configurable': {'thread_id': '1', 'checkpoint_ns': '', 'checkpoint_id': '1f0706db-f730-6bba-8001-009249d319b7'}}, metadata={'source': 'loop', 'step': 1, 'parents': {}}, created_at='2025-08-03T13:28:31.421920+00:00', parent_config={'configurable': {'thread_id': '1', 'checkpoint_ns': '', 'checkpoint_id': '1f0706db-97f3-6468-8000-ee874a14a801'}}, tasks=(PregelTask(id='de0e37ff-672c-41e5-c318-6a0d3d3877fe', name='generate_explanation', path=('__pregel_pull', 'generate_explanation'), error=None, interrupts=(), state=None, result={'explanation': 'This joke plays on the literal meaning of an \"identity crisis\" applied to an inanimate object, using the different shapes associated with a pizza.\\n\\nHere\\'s the breakdown:\\n\\n1.  **Identity Crisis:** An \"identity crisis\" is when someone feels confused or conflicted about who they are, their purpose, or their fundamental nature.\\n2.  **The Pizza\\'s \"Conflicting Identities\":**\\n    *   **\"It was round\":** This is the pizza\\'s original, baked shape. It\\'s born round.\\n    *   **\"Came in a square box\":** Despite being round, it\\'s contained and transported in a box with a completely different shape – a square.\\n    *   **\"And you eat it in triangles!\":** When it\\'s served and consumed, it\\'s typically cut into triangular slices, yet another distinct shape.\\n\\nThe humor comes from the absurdity of an object experiencing such a conflict. The pizza literally takes on three distinct and clashing geometric identities (round, square, triangle) throughout its \"life cycle,\" creating a humorous parallel to a human identity crisis. It anthropomorphizes the pizza, giving it human-like feelings of confusion over its various shapes.'}),), interrupts=()),\n",
       " StateSnapshot(values={'topic': 'pizza'}, next=('generate_joke',), config={'configurable': {'thread_id': '1', 'checkpoint_ns': '', 'checkpoint_id': '1f0706db-97f3-6468-8000-ee874a14a801'}}, metadata={'source': 'loop', 'step': 0, 'parents': {}}, created_at='2025-08-03T13:28:21.435297+00:00', parent_config={'configurable': {'thread_id': '1', 'checkpoint_ns': '', 'checkpoint_id': '1f0706db-97f2-6180-bfff-14e08a45e4b7'}}, tasks=(PregelTask(id='57b26d5a-5e7c-ded7-0ebe-35cc1ef59427', name='generate_joke', path=('__pregel_pull', 'generate_joke'), error=None, interrupts=(), state=None, result={'joke': 'Why did the pizza have an identity crisis?\\n\\nBecause it was round, came in a square box, and you eat it in triangles!'}),), interrupts=()),\n",
       " StateSnapshot(values={}, next=('__start__',), config={'configurable': {'thread_id': '1', 'checkpoint_ns': '', 'checkpoint_id': '1f0706db-97f2-6180-bfff-14e08a45e4b7'}}, metadata={'source': 'input', 'step': -1, 'parents': {}}, created_at='2025-08-03T13:28:21.434813+00:00', parent_config=None, tasks=(PregelTask(id='f296e375-6070-9173-ab28-b5aa5deedab3', name='__start__', path=('__pregel_pull', '__start__'), error=None, interrupts=(), state=None, result={'topic': 'pizza'}),), interrupts=())]"
      ]
     },
     "execution_count": 26,
     "metadata": {},
     "output_type": "execute_result"
    }
   ],
   "source": [
    "list(workflow.get_state_history(config1))"
   ]
  },
  {
   "cell_type": "markdown",
   "id": "d8435127",
   "metadata": {},
   "source": [
    "### Fault Tolerance"
   ]
  },
  {
   "cell_type": "code",
   "execution_count": 33,
   "id": "b7aacf7e",
   "metadata": {},
   "outputs": [],
   "source": [
    "from langgraph.graph import StateGraph, END\n",
    "from langgraph.checkpoint.memory import InMemorySaver\n",
    "from typing import TypedDict\n",
    "import time"
   ]
  },
  {
   "cell_type": "code",
   "execution_count": 34,
   "id": "095de12d",
   "metadata": {},
   "outputs": [],
   "source": [
    "# 1. Define the state\n",
    "class CrashState(TypedDict):\n",
    "    input: str\n",
    "    step1: str\n",
    "    step2: str"
   ]
  },
  {
   "cell_type": "code",
   "execution_count": 35,
   "id": "13365a36",
   "metadata": {},
   "outputs": [],
   "source": [
    "# 2. Define steps\n",
    "def step_1(state: CrashState) -> CrashState:\n",
    "    print(\"✅ Step 1 executed\")\n",
    "    return {\"step1\": \"done\", \"input\": state[\"input\"]}\n",
    "\n",
    "def step_2(state: CrashState) -> CrashState:\n",
    "    print(\"⏳ Step 2 hanging... now manually interrupt from the notebook toolbar (STOP button)\")\n",
    "    time.sleep(10)  # Simulate long-running hang\n",
    "    return {\"step2\": \"done\"}\n",
    "\n",
    "def step_3(state: CrashState) -> CrashState:\n",
    "    print(\"✅ Step 3 executed\")\n",
    "    return {\"done\": True}"
   ]
  },
  {
   "cell_type": "code",
   "execution_count": 36,
   "id": "2838a3a1",
   "metadata": {},
   "outputs": [],
   "source": [
    "# 3. Build the graph\n",
    "builder = StateGraph(CrashState)\n",
    "builder.add_node(\"step_1\", step_1)\n",
    "builder.add_node(\"step_2\", step_2)\n",
    "builder.add_node(\"step_3\", step_3)\n",
    "\n",
    "builder.set_entry_point(\"step_1\")\n",
    "builder.add_edge(\"step_1\", \"step_2\")\n",
    "builder.add_edge(\"step_2\", \"step_3\")\n",
    "builder.add_edge(\"step_3\", END)\n",
    "\n",
    "checkpointer = InMemorySaver()\n",
    "graph = builder.compile(checkpointer=checkpointer)"
   ]
  },
  {
   "cell_type": "code",
   "execution_count": 37,
   "id": "17c012e7",
   "metadata": {},
   "outputs": [
    {
     "name": "stdout",
     "output_type": "stream",
     "text": [
      "▶️ Running graph: Please manually interrupt during Step 2...\n",
      "✅ Step 1 executed\n",
      "⏳ Step 2 hanging... now manually interrupt from the notebook toolbar (STOP button)\n",
      "❌ Kernel manually interrupted (crash simulated).\n"
     ]
    }
   ],
   "source": [
    "try:\n",
    "    print(\"▶️ Running graph: Please manually interrupt during Step 2...\")\n",
    "    graph.invoke({\"input\": \"start\"}, config={\"configurable\": {\"thread_id\": 'thread-1'}})\n",
    "except KeyboardInterrupt:\n",
    "    print(\"❌ Kernel manually interrupted (crash simulated).\")"
   ]
  },
  {
   "cell_type": "code",
   "execution_count": 38,
   "id": "95df3f98",
   "metadata": {},
   "outputs": [
    {
     "name": "stdout",
     "output_type": "stream",
     "text": [
      "\n",
      "🔁 Re-running the graph to demonstrate fault tolerance...\n",
      "⏳ Step 2 hanging... now manually interrupt from the notebook toolbar (STOP button)\n",
      "✅ Step 3 executed\n",
      "\n",
      "✅ Final State: {'input': 'start', 'step1': 'done', 'step2': 'done'}\n"
     ]
    }
   ],
   "source": [
    "# 6. Re-run to show fault-tolerant resume\n",
    "print(\"\\n🔁 Re-running the graph to demonstrate fault tolerance...\")\n",
    "final_state = graph.invoke(None, config={\"configurable\": {\"thread_id\": 'thread-1'}})\n",
    "print(\"\\n✅ Final State:\", final_state)"
   ]
  },
  {
   "cell_type": "code",
   "execution_count": 39,
   "id": "4f61ccbd",
   "metadata": {},
   "outputs": [
    {
     "data": {
      "text/plain": [
       "[StateSnapshot(values={'input': 'start', 'step1': 'done', 'step2': 'done'}, next=(), config={'configurable': {'thread_id': 'thread-1', 'checkpoint_ns': '', 'checkpoint_id': '1f0706f4-b716-60e8-8003-6128ec6c742f'}}, metadata={'source': 'loop', 'step': 3, 'parents': {}}, created_at='2025-08-03T13:39:35.788744+00:00', parent_config={'configurable': {'thread_id': 'thread-1', 'checkpoint_ns': '', 'checkpoint_id': '1f0706f4-b712-6f92-8002-ca9ee1dd161f'}}, tasks=(), interrupts=()),\n",
       " StateSnapshot(values={'input': 'start', 'step1': 'done', 'step2': 'done'}, next=('step_3',), config={'configurable': {'thread_id': 'thread-1', 'checkpoint_ns': '', 'checkpoint_id': '1f0706f4-b712-6f92-8002-ca9ee1dd161f'}}, metadata={'source': 'loop', 'step': 2, 'parents': {}}, created_at='2025-08-03T13:39:35.787459+00:00', parent_config={'configurable': {'thread_id': 'thread-1', 'checkpoint_ns': '', 'checkpoint_id': '1f0706f4-3c85-62ca-8001-ca1be2212e51'}}, tasks=(PregelTask(id='536740a6-d701-186b-ec29-c291bdd9b48c', name='step_3', path=('__pregel_pull', 'step_3'), error=None, interrupts=(), state=None, result={}),), interrupts=()),\n",
       " StateSnapshot(values={'input': 'start', 'step1': 'done'}, next=('step_2',), config={'configurable': {'thread_id': 'thread-1', 'checkpoint_ns': '', 'checkpoint_id': '1f0706f4-3c85-62ca-8001-ca1be2212e51'}}, metadata={'source': 'loop', 'step': 1, 'parents': {}}, created_at='2025-08-03T13:39:22.936779+00:00', parent_config={'configurable': {'thread_id': 'thread-1', 'checkpoint_ns': '', 'checkpoint_id': '1f0706f4-3c81-6e86-8000-cc6f051ad82b'}}, tasks=(PregelTask(id='3b87142c-2c4a-25c9-ed96-96782046a670', name='step_2', path=('__pregel_pull', 'step_2'), error=None, interrupts=(), state=None, result={'step2': 'done'}),), interrupts=()),\n",
       " StateSnapshot(values={'input': 'start'}, next=('step_1',), config={'configurable': {'thread_id': 'thread-1', 'checkpoint_ns': '', 'checkpoint_id': '1f0706f4-3c81-6e86-8000-cc6f051ad82b'}}, metadata={'source': 'loop', 'step': 0, 'parents': {}}, created_at='2025-08-03T13:39:22.935448+00:00', parent_config={'configurable': {'thread_id': 'thread-1', 'checkpoint_ns': '', 'checkpoint_id': '1f0706f4-3c7e-6452-bfff-0f0b83686f4a'}}, tasks=(PregelTask(id='987d3aac-721b-56a7-197f-fa95f9d39ad3', name='step_1', path=('__pregel_pull', 'step_1'), error=None, interrupts=(), state=None, result={'step1': 'done', 'input': 'start'}),), interrupts=()),\n",
       " StateSnapshot(values={}, next=('__start__',), config={'configurable': {'thread_id': 'thread-1', 'checkpoint_ns': '', 'checkpoint_id': '1f0706f4-3c7e-6452-bfff-0f0b83686f4a'}}, metadata={'source': 'input', 'step': -1, 'parents': {}}, created_at='2025-08-03T13:39:22.933963+00:00', parent_config=None, tasks=(PregelTask(id='00538303-f3fb-615b-8427-281a5e04167d', name='__start__', path=('__pregel_pull', '__start__'), error=None, interrupts=(), state=None, result={'input': 'start'}),), interrupts=())]"
      ]
     },
     "execution_count": 39,
     "metadata": {},
     "output_type": "execute_result"
    }
   ],
   "source": [
    "list(graph.get_state_history({\"configurable\": {\"thread_id\": 'thread-1'}}))"
   ]
  }
 ],
 "metadata": {
  "kernelspec": {
   "display_name": "LangGraph-Tutorials",
   "language": "python",
   "name": "python3"
  },
  "language_info": {
   "codemirror_mode": {
    "name": "ipython",
    "version": 3
   },
   "file_extension": ".py",
   "mimetype": "text/x-python",
   "name": "python",
   "nbconvert_exporter": "python",
   "pygments_lexer": "ipython3",
   "version": "3.13.5"
  }
 },
 "nbformat": 4,
 "nbformat_minor": 5
}
